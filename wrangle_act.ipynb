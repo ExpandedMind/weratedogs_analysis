{
 "cells": [
  {
   "cell_type": "markdown",
   "metadata": {},
   "source": [
    "# #WeRateDogs, An anaysis over tweets"
   ]
  },
  {
   "cell_type": "markdown",
   "metadata": {},
   "source": [
    "### Table of contents\n",
    "\n",
    "1. [Gathering](#gather_section)\n",
    "2. [Assesment process](#assess_section)<br />\n",
    "    2.1 [Quality Notes](#quality_notes)<br />\n",
    "    2.2 [Tidiness Notes](#tidiness_notes)\n",
    "3. [Cleaning](#cleaning_section)<br />\n",
    "    3.1 [Get data tidy](#cleaning_tidiness)<br />\n",
    "    3.2 [Get data clean](#cleaning_quality)\n",
    "4. [Export data](#export_section)\n",
    "5. [Analysis and Visualizations](#analysis_section)<br />\n",
    "    5.1 [Ratings study](#ratings)<br />\n",
    "    5.2 [Tweets media](#media)<br />\n",
    "    5.3 [Favorite and Retweet count correlations](#correlations)<br />\n",
    "    5.4 [Dog breeds](#dog_breeds)<br />\n",
    "    5.5 [Doggos, puppers and other dog tags](#dog_tags)<br />\n",
    "    "
   ]
  },
  {
   "cell_type": "code",
   "execution_count": 1,
   "metadata": {},
   "outputs": [],
   "source": [
    "import json\n",
    "import requests\n",
    "import tweepy\n",
    "import pandas as pd\n",
    "import numpy as np\n",
    "import os "
   ]
  },
  {
   "cell_type": "markdown",
   "metadata": {},
   "source": [
    "<a id=\"gather_section\"></a>\n",
    "\n",
    "## Gathering"
   ]
  },
  {
   "cell_type": "markdown",
   "metadata": {},
   "source": [
    "##### Load provided twitter archive from #WeRateDogs"
   ]
  },
  {
   "cell_type": "code",
   "execution_count": 2,
   "metadata": {},
   "outputs": [],
   "source": [
    "archive_df = pd.read_csv('twitter-archive-enhanced.csv')"
   ]
  },
  {
   "cell_type": "markdown",
   "metadata": {},
   "source": [
    "##### Get Images Predictions file"
   ]
  },
  {
   "cell_type": "code",
   "execution_count": 3,
   "metadata": {},
   "outputs": [],
   "source": [
    "result = requests.get('https://d17h27t6h515a5.cloudfront.net/topher/2017/August/599fd2ad_image-predictions/image-predictions.tsv')\n",
    "with open('image_predictions.tsv', mode='wb') as fp:\n",
    "    fp.write(result.content)"
   ]
  },
  {
   "cell_type": "code",
   "execution_count": 4,
   "metadata": {},
   "outputs": [
    {
     "data": {
      "text/html": [
       "<div>\n",
       "<style scoped>\n",
       "    .dataframe tbody tr th:only-of-type {\n",
       "        vertical-align: middle;\n",
       "    }\n",
       "\n",
       "    .dataframe tbody tr th {\n",
       "        vertical-align: top;\n",
       "    }\n",
       "\n",
       "    .dataframe thead th {\n",
       "        text-align: right;\n",
       "    }\n",
       "</style>\n",
       "<table border=\"1\" class=\"dataframe\">\n",
       "  <thead>\n",
       "    <tr style=\"text-align: right;\">\n",
       "      <th></th>\n",
       "      <th>tweet_id</th>\n",
       "      <th>jpg_url</th>\n",
       "      <th>img_num</th>\n",
       "      <th>p1</th>\n",
       "      <th>p1_conf</th>\n",
       "      <th>p1_dog</th>\n",
       "      <th>p2</th>\n",
       "      <th>p2_conf</th>\n",
       "      <th>p2_dog</th>\n",
       "      <th>p3</th>\n",
       "      <th>p3_conf</th>\n",
       "      <th>p3_dog</th>\n",
       "    </tr>\n",
       "  </thead>\n",
       "  <tbody>\n",
       "    <tr>\n",
       "      <td>1503</td>\n",
       "      <td>784826020293709826</td>\n",
       "      <td>https://pbs.twimg.com/media/CuRDF-XWcAIZSer.jpg</td>\n",
       "      <td>1</td>\n",
       "      <td>chow</td>\n",
       "      <td>0.090341</td>\n",
       "      <td>True</td>\n",
       "      <td>binoculars</td>\n",
       "      <td>0.083499</td>\n",
       "      <td>False</td>\n",
       "      <td>Irish_setter</td>\n",
       "      <td>0.077456</td>\n",
       "      <td>True</td>\n",
       "    </tr>\n",
       "  </tbody>\n",
       "</table>\n",
       "</div>"
      ],
      "text/plain": [
       "                tweet_id                                          jpg_url  \\\n",
       "1503  784826020293709826  https://pbs.twimg.com/media/CuRDF-XWcAIZSer.jpg   \n",
       "\n",
       "      img_num    p1   p1_conf  p1_dog          p2   p2_conf  p2_dog  \\\n",
       "1503        1  chow  0.090341    True  binoculars  0.083499   False   \n",
       "\n",
       "                p3   p3_conf  p3_dog  \n",
       "1503  Irish_setter  0.077456    True  "
      ]
     },
     "execution_count": 4,
     "metadata": {},
     "output_type": "execute_result"
    }
   ],
   "source": [
    "predictions_df = pd.read_csv('image_predictions.tsv', sep='\\t')\n",
    "predictions_df.sample()"
   ]
  },
  {
   "cell_type": "markdown",
   "metadata": {},
   "source": [
    "##### Calling Tweeter API"
   ]
  },
  {
   "cell_type": "code",
   "execution_count": 5,
   "metadata": {},
   "outputs": [],
   "source": [
    "consumer_key = 'YOUR CONSUMER KEY'\n",
    "consumer_secret = 'YOUR CONSUMER SECRET'\n",
    "access_token = 'YOUR ACCESS TOKEN'\n",
    "access_secret = 'YOUR ACCESS SECRET'\n",
    "\n",
    "auth = tweepy.OAuthHandler(consumer_key, consumer_secret)\n",
    "auth.set_access_token(access_token, access_secret)\n",
    "\n",
    "api = tweepy.API(auth)\n",
    "\n",
    "# Unfortunately, Twitter Dev portal has not replied to my application"
   ]
  },
  {
   "cell_type": "markdown",
   "metadata": {},
   "source": [
    "_\"We’ve received your application for a Twitter developer account, and we’re starting our review. Case# 0150166583 Twitter developer account application\"_"
   ]
  },
  {
   "cell_type": "code",
   "execution_count": 6,
   "metadata": {},
   "outputs": [],
   "source": [
    "# So, let's use file from Udacity ...\n",
    "tweets_entries = []\n",
    "with open('tweet-json-udacity.txt', mode='r', encoding='utf-8') as fd:\n",
    "    json_string = fd.readline()\n",
    "    while json_string != \"\":\n",
    "        tweet_obj = json.loads(json_string)\n",
    "        tweets_entries.append(tweet_obj)\n",
    "        json_string = fd.readline()\n",
    "api_tweets_df = pd.DataFrame(tweets_entries, columns=list(tweet_obj.keys()))"
   ]
  },
  {
   "cell_type": "code",
   "execution_count": 7,
   "metadata": {},
   "outputs": [
    {
     "data": {
      "text/plain": [
       "[771004394259247104, 888202515573088257]"
      ]
     },
     "execution_count": 7,
     "metadata": {},
     "output_type": "execute_result"
    }
   ],
   "source": [
    "# Let's see the missing tweets in api file\n",
    "archive_ids, api_ids = archive_df.tweet_id, api_tweets_df.id\n",
    "list(set(archive_ids) - set(api_ids))"
   ]
  },
  {
   "cell_type": "code",
   "execution_count": 8,
   "metadata": {},
   "outputs": [
    {
     "data": {
      "text/html": [
       "<div>\n",
       "<style scoped>\n",
       "    .dataframe tbody tr th:only-of-type {\n",
       "        vertical-align: middle;\n",
       "    }\n",
       "\n",
       "    .dataframe tbody tr th {\n",
       "        vertical-align: top;\n",
       "    }\n",
       "\n",
       "    .dataframe thead th {\n",
       "        text-align: right;\n",
       "    }\n",
       "</style>\n",
       "<table border=\"1\" class=\"dataframe\">\n",
       "  <thead>\n",
       "    <tr style=\"text-align: right;\">\n",
       "      <th></th>\n",
       "      <th>tweet_id</th>\n",
       "      <th>in_reply_to_status_id</th>\n",
       "      <th>in_reply_to_user_id</th>\n",
       "      <th>timestamp</th>\n",
       "      <th>source</th>\n",
       "      <th>text</th>\n",
       "      <th>retweeted_status_id</th>\n",
       "      <th>retweeted_status_user_id</th>\n",
       "      <th>retweeted_status_timestamp</th>\n",
       "      <th>expanded_urls</th>\n",
       "      <th>rating_numerator</th>\n",
       "      <th>rating_denominator</th>\n",
       "      <th>name</th>\n",
       "      <th>doggo</th>\n",
       "      <th>floofer</th>\n",
       "      <th>pupper</th>\n",
       "      <th>puppo</th>\n",
       "    </tr>\n",
       "  </thead>\n",
       "  <tbody>\n",
       "    <tr>\n",
       "      <td>19</td>\n",
       "      <td>888202515573088257</td>\n",
       "      <td>NaN</td>\n",
       "      <td>NaN</td>\n",
       "      <td>2017-07-21 01:02:36 +0000</td>\n",
       "      <td>&lt;a href=\"http://twitter.com/download/iphone\" r...</td>\n",
       "      <td>RT @dog_rates: This is Canela. She attempted s...</td>\n",
       "      <td>8.874740e+17</td>\n",
       "      <td>4.196984e+09</td>\n",
       "      <td>2017-07-19 00:47:34 +0000</td>\n",
       "      <td>https://twitter.com/dog_rates/status/887473957...</td>\n",
       "      <td>13</td>\n",
       "      <td>10</td>\n",
       "      <td>Canela</td>\n",
       "      <td>None</td>\n",
       "      <td>None</td>\n",
       "      <td>None</td>\n",
       "      <td>None</td>\n",
       "    </tr>\n",
       "    <tr>\n",
       "      <td>815</td>\n",
       "      <td>771004394259247104</td>\n",
       "      <td>NaN</td>\n",
       "      <td>NaN</td>\n",
       "      <td>2016-08-31 15:19:06 +0000</td>\n",
       "      <td>&lt;a href=\"http://twitter.com/download/iphone\" r...</td>\n",
       "      <td>RT @katieornah: @dog_rates learning a lot at c...</td>\n",
       "      <td>7.710021e+17</td>\n",
       "      <td>1.732729e+09</td>\n",
       "      <td>2016-08-31 15:10:07 +0000</td>\n",
       "      <td>https://twitter.com/katieornah/status/77100213...</td>\n",
       "      <td>12</td>\n",
       "      <td>10</td>\n",
       "      <td>None</td>\n",
       "      <td>None</td>\n",
       "      <td>None</td>\n",
       "      <td>pupper</td>\n",
       "      <td>None</td>\n",
       "    </tr>\n",
       "  </tbody>\n",
       "</table>\n",
       "</div>"
      ],
      "text/plain": [
       "               tweet_id  in_reply_to_status_id  in_reply_to_user_id  \\\n",
       "19   888202515573088257                    NaN                  NaN   \n",
       "815  771004394259247104                    NaN                  NaN   \n",
       "\n",
       "                     timestamp  \\\n",
       "19   2017-07-21 01:02:36 +0000   \n",
       "815  2016-08-31 15:19:06 +0000   \n",
       "\n",
       "                                                source  \\\n",
       "19   <a href=\"http://twitter.com/download/iphone\" r...   \n",
       "815  <a href=\"http://twitter.com/download/iphone\" r...   \n",
       "\n",
       "                                                  text  retweeted_status_id  \\\n",
       "19   RT @dog_rates: This is Canela. She attempted s...         8.874740e+17   \n",
       "815  RT @katieornah: @dog_rates learning a lot at c...         7.710021e+17   \n",
       "\n",
       "     retweeted_status_user_id retweeted_status_timestamp  \\\n",
       "19               4.196984e+09  2017-07-19 00:47:34 +0000   \n",
       "815              1.732729e+09  2016-08-31 15:10:07 +0000   \n",
       "\n",
       "                                         expanded_urls  rating_numerator  \\\n",
       "19   https://twitter.com/dog_rates/status/887473957...                13   \n",
       "815  https://twitter.com/katieornah/status/77100213...                12   \n",
       "\n",
       "     rating_denominator    name doggo floofer  pupper puppo  \n",
       "19                   10  Canela  None    None    None  None  \n",
       "815                  10    None  None    None  pupper  None  "
      ]
     },
     "execution_count": 8,
     "metadata": {},
     "output_type": "execute_result"
    }
   ],
   "source": [
    "archive_df.query(\"tweet_id in (771004394259247104, 888202515573088257)\")"
   ]
  },
  {
   "cell_type": "markdown",
   "metadata": {},
   "source": [
    "<a id=\"assess_section\"></a>\n",
    "\n",
    "## Assesment"
   ]
  },
  {
   "cell_type": "markdown",
   "metadata": {},
   "source": [
    "_Let's assess WeRateDogs enhanced archive_"
   ]
  },
  {
   "cell_type": "code",
   "execution_count": 9,
   "metadata": {},
   "outputs": [
    {
     "data": {
      "text/html": [
       "<div>\n",
       "<style scoped>\n",
       "    .dataframe tbody tr th:only-of-type {\n",
       "        vertical-align: middle;\n",
       "    }\n",
       "\n",
       "    .dataframe tbody tr th {\n",
       "        vertical-align: top;\n",
       "    }\n",
       "\n",
       "    .dataframe thead th {\n",
       "        text-align: right;\n",
       "    }\n",
       "</style>\n",
       "<table border=\"1\" class=\"dataframe\">\n",
       "  <thead>\n",
       "    <tr style=\"text-align: right;\">\n",
       "      <th></th>\n",
       "      <th>tweet_id</th>\n",
       "      <th>in_reply_to_status_id</th>\n",
       "      <th>in_reply_to_user_id</th>\n",
       "      <th>timestamp</th>\n",
       "      <th>source</th>\n",
       "      <th>text</th>\n",
       "      <th>retweeted_status_id</th>\n",
       "      <th>retweeted_status_user_id</th>\n",
       "      <th>retweeted_status_timestamp</th>\n",
       "      <th>expanded_urls</th>\n",
       "      <th>rating_numerator</th>\n",
       "      <th>rating_denominator</th>\n",
       "      <th>name</th>\n",
       "      <th>doggo</th>\n",
       "      <th>floofer</th>\n",
       "      <th>pupper</th>\n",
       "      <th>puppo</th>\n",
       "    </tr>\n",
       "  </thead>\n",
       "  <tbody>\n",
       "    <tr>\n",
       "      <td>1255</td>\n",
       "      <td>710609963652087808</td>\n",
       "      <td>NaN</td>\n",
       "      <td>NaN</td>\n",
       "      <td>2016-03-17 23:33:12 +0000</td>\n",
       "      <td>&lt;a href=\"http://vine.co\" rel=\"nofollow\"&gt;Vine -...</td>\n",
       "      <td>I've watched this a million times and you prob...</td>\n",
       "      <td>NaN</td>\n",
       "      <td>NaN</td>\n",
       "      <td>NaN</td>\n",
       "      <td>https://vine.co/v/idaTpwH5TgU</td>\n",
       "      <td>12</td>\n",
       "      <td>10</td>\n",
       "      <td>None</td>\n",
       "      <td>None</td>\n",
       "      <td>None</td>\n",
       "      <td>None</td>\n",
       "      <td>None</td>\n",
       "    </tr>\n",
       "    <tr>\n",
       "      <td>2082</td>\n",
       "      <td>670815497391357952</td>\n",
       "      <td>NaN</td>\n",
       "      <td>NaN</td>\n",
       "      <td>2015-11-29 04:04:12 +0000</td>\n",
       "      <td>&lt;a href=\"http://twitter.com/download/iphone\" r...</td>\n",
       "      <td>This is Sage. He likes to burn shit. 10/10 htt...</td>\n",
       "      <td>NaN</td>\n",
       "      <td>NaN</td>\n",
       "      <td>NaN</td>\n",
       "      <td>https://twitter.com/dog_rates/status/670815497...</td>\n",
       "      <td>10</td>\n",
       "      <td>10</td>\n",
       "      <td>Sage</td>\n",
       "      <td>None</td>\n",
       "      <td>None</td>\n",
       "      <td>None</td>\n",
       "      <td>None</td>\n",
       "    </tr>\n",
       "    <tr>\n",
       "      <td>540</td>\n",
       "      <td>806542213899489280</td>\n",
       "      <td>NaN</td>\n",
       "      <td>NaN</td>\n",
       "      <td>2016-12-07 16:53:43 +0000</td>\n",
       "      <td>&lt;a href=\"http://twitter.com/download/iphone\" r...</td>\n",
       "      <td>This is Waffles. He's concerned that the dandr...</td>\n",
       "      <td>NaN</td>\n",
       "      <td>NaN</td>\n",
       "      <td>NaN</td>\n",
       "      <td>https://twitter.com/dog_rates/status/806542213...</td>\n",
       "      <td>11</td>\n",
       "      <td>10</td>\n",
       "      <td>Waffles</td>\n",
       "      <td>None</td>\n",
       "      <td>None</td>\n",
       "      <td>None</td>\n",
       "      <td>None</td>\n",
       "    </tr>\n",
       "  </tbody>\n",
       "</table>\n",
       "</div>"
      ],
      "text/plain": [
       "                tweet_id  in_reply_to_status_id  in_reply_to_user_id  \\\n",
       "1255  710609963652087808                    NaN                  NaN   \n",
       "2082  670815497391357952                    NaN                  NaN   \n",
       "540   806542213899489280                    NaN                  NaN   \n",
       "\n",
       "                      timestamp  \\\n",
       "1255  2016-03-17 23:33:12 +0000   \n",
       "2082  2015-11-29 04:04:12 +0000   \n",
       "540   2016-12-07 16:53:43 +0000   \n",
       "\n",
       "                                                 source  \\\n",
       "1255  <a href=\"http://vine.co\" rel=\"nofollow\">Vine -...   \n",
       "2082  <a href=\"http://twitter.com/download/iphone\" r...   \n",
       "540   <a href=\"http://twitter.com/download/iphone\" r...   \n",
       "\n",
       "                                                   text  retweeted_status_id  \\\n",
       "1255  I've watched this a million times and you prob...                  NaN   \n",
       "2082  This is Sage. He likes to burn shit. 10/10 htt...                  NaN   \n",
       "540   This is Waffles. He's concerned that the dandr...                  NaN   \n",
       "\n",
       "      retweeted_status_user_id retweeted_status_timestamp  \\\n",
       "1255                       NaN                        NaN   \n",
       "2082                       NaN                        NaN   \n",
       "540                        NaN                        NaN   \n",
       "\n",
       "                                          expanded_urls  rating_numerator  \\\n",
       "1255                      https://vine.co/v/idaTpwH5TgU                12   \n",
       "2082  https://twitter.com/dog_rates/status/670815497...                10   \n",
       "540   https://twitter.com/dog_rates/status/806542213...                11   \n",
       "\n",
       "      rating_denominator     name doggo floofer pupper puppo  \n",
       "1255                  10     None  None    None   None  None  \n",
       "2082                  10     Sage  None    None   None  None  \n",
       "540                   10  Waffles  None    None   None  None  "
      ]
     },
     "execution_count": 9,
     "metadata": {},
     "output_type": "execute_result"
    }
   ],
   "source": [
    "archive_df.sample(3)"
   ]
  },
  {
   "cell_type": "code",
   "execution_count": 10,
   "metadata": {},
   "outputs": [
    {
     "data": {
      "text/plain": [
       "0"
      ]
     },
     "execution_count": 10,
     "metadata": {},
     "output_type": "execute_result"
    }
   ],
   "source": [
    "# Let´s try to find any duplicated entries\n",
    "archive_df.tweet_id.duplicated().sum()"
   ]
  },
  {
   "cell_type": "code",
   "execution_count": 11,
   "metadata": {},
   "outputs": [
    {
     "data": {
      "text/plain": [
       "59"
      ]
     },
     "execution_count": 11,
     "metadata": {},
     "output_type": "execute_result"
    }
   ],
   "source": [
    "# Calculate how many missing tweet's links there are\n",
    "archive_df.expanded_urls.isnull().sum()"
   ]
  },
  {
   "cell_type": "code",
   "execution_count": 12,
   "metadata": {},
   "outputs": [
    {
     "data": {
      "text/html": [
       "<div>\n",
       "<style scoped>\n",
       "    .dataframe tbody tr th:only-of-type {\n",
       "        vertical-align: middle;\n",
       "    }\n",
       "\n",
       "    .dataframe tbody tr th {\n",
       "        vertical-align: top;\n",
       "    }\n",
       "\n",
       "    .dataframe thead th {\n",
       "        text-align: right;\n",
       "    }\n",
       "</style>\n",
       "<table border=\"1\" class=\"dataframe\">\n",
       "  <thead>\n",
       "    <tr style=\"text-align: right;\">\n",
       "      <th></th>\n",
       "      <th>rating_numerator</th>\n",
       "      <th>rating_denominator</th>\n",
       "    </tr>\n",
       "  </thead>\n",
       "  <tbody>\n",
       "    <tr>\n",
       "      <td>count</td>\n",
       "      <td>2356.000000</td>\n",
       "      <td>2356.000000</td>\n",
       "    </tr>\n",
       "    <tr>\n",
       "      <td>mean</td>\n",
       "      <td>13.126486</td>\n",
       "      <td>10.455433</td>\n",
       "    </tr>\n",
       "    <tr>\n",
       "      <td>std</td>\n",
       "      <td>45.876648</td>\n",
       "      <td>6.745237</td>\n",
       "    </tr>\n",
       "    <tr>\n",
       "      <td>min</td>\n",
       "      <td>0.000000</td>\n",
       "      <td>0.000000</td>\n",
       "    </tr>\n",
       "    <tr>\n",
       "      <td>25%</td>\n",
       "      <td>10.000000</td>\n",
       "      <td>10.000000</td>\n",
       "    </tr>\n",
       "    <tr>\n",
       "      <td>50%</td>\n",
       "      <td>11.000000</td>\n",
       "      <td>10.000000</td>\n",
       "    </tr>\n",
       "    <tr>\n",
       "      <td>75%</td>\n",
       "      <td>12.000000</td>\n",
       "      <td>10.000000</td>\n",
       "    </tr>\n",
       "    <tr>\n",
       "      <td>max</td>\n",
       "      <td>1776.000000</td>\n",
       "      <td>170.000000</td>\n",
       "    </tr>\n",
       "  </tbody>\n",
       "</table>\n",
       "</div>"
      ],
      "text/plain": [
       "       rating_numerator  rating_denominator\n",
       "count       2356.000000         2356.000000\n",
       "mean          13.126486           10.455433\n",
       "std           45.876648            6.745237\n",
       "min            0.000000            0.000000\n",
       "25%           10.000000           10.000000\n",
       "50%           11.000000           10.000000\n",
       "75%           12.000000           10.000000\n",
       "max         1776.000000          170.000000"
      ]
     },
     "execution_count": 12,
     "metadata": {},
     "output_type": "execute_result"
    }
   ],
   "source": [
    "# Visualize if rates correspond to tweet's text\n",
    "archive_df.describe()[['rating_numerator' ,'rating_denominator']]\n",
    "#We can see vast majority of numerators are between 10-14 and most of \n",
    "#denominators are 10, however there is at least 1 denominator as 0, which is invalid for our purposes"
   ]
  },
  {
   "cell_type": "code",
   "execution_count": 13,
   "metadata": {},
   "outputs": [
    {
     "data": {
      "text/html": [
       "<div>\n",
       "<style scoped>\n",
       "    .dataframe tbody tr th:only-of-type {\n",
       "        vertical-align: middle;\n",
       "    }\n",
       "\n",
       "    .dataframe tbody tr th {\n",
       "        vertical-align: top;\n",
       "    }\n",
       "\n",
       "    .dataframe thead th {\n",
       "        text-align: right;\n",
       "    }\n",
       "</style>\n",
       "<table border=\"1\" class=\"dataframe\">\n",
       "  <thead>\n",
       "    <tr style=\"text-align: right;\">\n",
       "      <th></th>\n",
       "      <th>tweet_id</th>\n",
       "      <th>in_reply_to_status_id</th>\n",
       "      <th>in_reply_to_user_id</th>\n",
       "      <th>timestamp</th>\n",
       "      <th>source</th>\n",
       "      <th>text</th>\n",
       "      <th>retweeted_status_id</th>\n",
       "      <th>retweeted_status_user_id</th>\n",
       "      <th>retweeted_status_timestamp</th>\n",
       "      <th>expanded_urls</th>\n",
       "      <th>rating_numerator</th>\n",
       "      <th>rating_denominator</th>\n",
       "      <th>name</th>\n",
       "      <th>doggo</th>\n",
       "      <th>floofer</th>\n",
       "      <th>pupper</th>\n",
       "      <th>puppo</th>\n",
       "    </tr>\n",
       "  </thead>\n",
       "  <tbody>\n",
       "    <tr>\n",
       "      <td>313</td>\n",
       "      <td>835246439529840640</td>\n",
       "      <td>8.352460e+17</td>\n",
       "      <td>26259576.0</td>\n",
       "      <td>2017-02-24 21:54:03 +0000</td>\n",
       "      <td>&lt;a href=\"http://twitter.com/download/iphone\" r...</td>\n",
       "      <td>@jonnysun @Lin_Manuel ok jomny I know you're e...</td>\n",
       "      <td>NaN</td>\n",
       "      <td>NaN</td>\n",
       "      <td>NaN</td>\n",
       "      <td>NaN</td>\n",
       "      <td>960</td>\n",
       "      <td>0</td>\n",
       "      <td>None</td>\n",
       "      <td>None</td>\n",
       "      <td>None</td>\n",
       "      <td>None</td>\n",
       "      <td>None</td>\n",
       "    </tr>\n",
       "  </tbody>\n",
       "</table>\n",
       "</div>"
      ],
      "text/plain": [
       "               tweet_id  in_reply_to_status_id  in_reply_to_user_id  \\\n",
       "313  835246439529840640           8.352460e+17           26259576.0   \n",
       "\n",
       "                     timestamp  \\\n",
       "313  2017-02-24 21:54:03 +0000   \n",
       "\n",
       "                                                source  \\\n",
       "313  <a href=\"http://twitter.com/download/iphone\" r...   \n",
       "\n",
       "                                                  text  retweeted_status_id  \\\n",
       "313  @jonnysun @Lin_Manuel ok jomny I know you're e...                  NaN   \n",
       "\n",
       "     retweeted_status_user_id retweeted_status_timestamp expanded_urls  \\\n",
       "313                       NaN                        NaN           NaN   \n",
       "\n",
       "     rating_numerator  rating_denominator  name doggo floofer pupper puppo  \n",
       "313               960                   0  None  None    None   None  None  "
      ]
     },
     "execution_count": 13,
     "metadata": {},
     "output_type": "execute_result"
    }
   ],
   "source": [
    "archive_df[archive_df['rating_denominator'] == 0]"
   ]
  },
  {
   "cell_type": "code",
   "execution_count": 14,
   "metadata": {},
   "outputs": [
    {
     "data": {
      "text/plain": [
       "None       745\n",
       "a           55\n",
       "Charlie     12\n",
       "Lucy        11\n",
       "Oliver      11\n",
       "          ... \n",
       "Koko         1\n",
       "Zooey        1\n",
       "Tassy        1\n",
       "Rose         1\n",
       "Reagan       1\n",
       "Name: name, Length: 957, dtype: int64"
      ]
     },
     "execution_count": 14,
     "metadata": {},
     "output_type": "execute_result"
    }
   ],
   "source": [
    "# Check values for names\n",
    "archive_df.name.value_counts()"
   ]
  },
  {
   "cell_type": "code",
   "execution_count": 15,
   "metadata": {},
   "outputs": [
    {
     "data": {
      "text/plain": [
       "{'a',\n",
       " 'actually',\n",
       " 'all',\n",
       " 'an',\n",
       " 'by',\n",
       " 'getting',\n",
       " 'his',\n",
       " 'incredibly',\n",
       " 'infuriating',\n",
       " 'just',\n",
       " 'life',\n",
       " 'light',\n",
       " 'mad',\n",
       " 'my',\n",
       " 'not',\n",
       " 'officially',\n",
       " 'old',\n",
       " 'one',\n",
       " 'quite',\n",
       " 'space',\n",
       " 'such',\n",
       " 'the',\n",
       " 'this',\n",
       " 'unacceptable',\n",
       " 'very'}"
      ]
     },
     "execution_count": 15,
     "metadata": {},
     "output_type": "execute_result"
    }
   ],
   "source": [
    "# Let´s discover some mistaken names\n",
    "set(archive_df[archive_df.name.str.islower()]['name'])"
   ]
  },
  {
   "cell_type": "code",
   "execution_count": 16,
   "metadata": {},
   "outputs": [
    {
     "data": {
      "text/plain": [
       "(0, 745)"
      ]
     },
     "execution_count": 16,
     "metadata": {},
     "output_type": "execute_result"
    }
   ],
   "source": [
    "# Clearly there are 745 missing dog names on the data frame, however they \n",
    "# are marked as \"None\".\n",
    "archive_df.name.isna().sum(), len(archive_df[archive_df.name == \"None\"])"
   ]
  },
  {
   "cell_type": "code",
   "execution_count": 17,
   "metadata": {},
   "outputs": [
    {
     "data": {
      "text/plain": [
       "181"
      ]
     },
     "execution_count": 17,
     "metadata": {},
     "output_type": "execute_result"
    }
   ],
   "source": [
    "# Number of tweets with retweeted_status_id\n",
    "archive_df.retweeted_status_id.notnull().sum()"
   ]
  },
  {
   "cell_type": "code",
   "execution_count": 18,
   "metadata": {},
   "outputs": [
    {
     "data": {
      "text/plain": [
       "0"
      ]
     },
     "execution_count": 18,
     "metadata": {},
     "output_type": "execute_result"
    }
   ],
   "source": [
    "# Number of tweets without rating\n",
    "archive_df.rating_numerator.isna().sum() + archive_df.rating_denominator.isna().sum()"
   ]
  },
  {
   "cell_type": "markdown",
   "metadata": {},
   "source": [
    "Assess data quality for tweets extracted from API.\n",
    "\n",
    "_**Note**: For this data frame, we are only interested on retweet_count, favorite_count, reply_count, quote_count and extended_entities (to get media assets for each tweet)_"
   ]
  },
  {
   "cell_type": "code",
   "execution_count": 19,
   "metadata": {},
   "outputs": [
    {
     "name": "stdout",
     "output_type": "stream",
     "text": [
      "<class 'pandas.core.frame.DataFrame'>\n",
      "RangeIndex: 2354 entries, 0 to 2353\n",
      "Data columns (total 27 columns):\n",
      "created_at                       2354 non-null object\n",
      "id                               2354 non-null int64\n",
      "id_str                           2354 non-null object\n",
      "full_text                        2354 non-null object\n",
      "truncated                        2354 non-null bool\n",
      "display_text_range               2354 non-null object\n",
      "entities                         2354 non-null object\n",
      "extended_entities                2073 non-null object\n",
      "source                           2354 non-null object\n",
      "in_reply_to_status_id            78 non-null float64\n",
      "in_reply_to_status_id_str        78 non-null object\n",
      "in_reply_to_user_id              78 non-null float64\n",
      "in_reply_to_user_id_str          78 non-null object\n",
      "in_reply_to_screen_name          78 non-null object\n",
      "user                             2354 non-null object\n",
      "geo                              0 non-null object\n",
      "coordinates                      0 non-null object\n",
      "place                            1 non-null object\n",
      "contributors                     0 non-null object\n",
      "is_quote_status                  2354 non-null bool\n",
      "retweet_count                    2354 non-null int64\n",
      "favorite_count                   2354 non-null int64\n",
      "favorited                        2354 non-null bool\n",
      "retweeted                        2354 non-null bool\n",
      "possibly_sensitive               2211 non-null object\n",
      "possibly_sensitive_appealable    2211 non-null object\n",
      "lang                             2354 non-null object\n",
      "dtypes: bool(4), float64(2), int64(3), object(18)\n",
      "memory usage: 432.3+ KB\n"
     ]
    }
   ],
   "source": [
    "api_tweets_df.info()"
   ]
  },
  {
   "cell_type": "code",
   "execution_count": 20,
   "metadata": {},
   "outputs": [
    {
     "data": {
      "text/plain": [
       "0"
      ]
     },
     "execution_count": 20,
     "metadata": {},
     "output_type": "execute_result"
    }
   ],
   "source": [
    "# No duplicates, that´s good\n",
    "api_tweets_df.id.duplicated().sum()"
   ]
  },
  {
   "cell_type": "code",
   "execution_count": 21,
   "metadata": {},
   "outputs": [
    {
     "data": {
      "text/plain": [
       "0       {'media': [{'id': 892420639486877696, 'id_str'...\n",
       "1       {'media': [{'id': 892177413194625024, 'id_str'...\n",
       "2       {'media': [{'id': 891815175371796480, 'id_str'...\n",
       "3       {'media': [{'id': 891689552724799489, 'id_str'...\n",
       "4       {'media': [{'id': 891327551943041024, 'id_str'...\n",
       "                              ...                        \n",
       "2349    {'media': [{'id': 666049244999131136, 'id_str'...\n",
       "2350    {'media': [{'id': 666044217047650304, 'id_str'...\n",
       "2351    {'media': [{'id': 666033409081393153, 'id_str'...\n",
       "2352    {'media': [{'id': 666029276303482880, 'id_str'...\n",
       "2353    {'media': [{'id': 666020881337073664, 'id_str'...\n",
       "Name: extended_entities, Length: 2354, dtype: object"
      ]
     },
     "execution_count": 21,
     "metadata": {},
     "output_type": "execute_result"
    }
   ],
   "source": [
    "api_tweets_df.extended_entities"
   ]
  },
  {
   "cell_type": "markdown",
   "metadata": {},
   "source": [
    "_Assess data quality for predictions data frame_"
   ]
  },
  {
   "cell_type": "code",
   "execution_count": 22,
   "metadata": {},
   "outputs": [
    {
     "data": {
      "text/html": [
       "<div>\n",
       "<style scoped>\n",
       "    .dataframe tbody tr th:only-of-type {\n",
       "        vertical-align: middle;\n",
       "    }\n",
       "\n",
       "    .dataframe tbody tr th {\n",
       "        vertical-align: top;\n",
       "    }\n",
       "\n",
       "    .dataframe thead th {\n",
       "        text-align: right;\n",
       "    }\n",
       "</style>\n",
       "<table border=\"1\" class=\"dataframe\">\n",
       "  <thead>\n",
       "    <tr style=\"text-align: right;\">\n",
       "      <th></th>\n",
       "      <th>tweet_id</th>\n",
       "      <th>jpg_url</th>\n",
       "      <th>img_num</th>\n",
       "      <th>p1</th>\n",
       "      <th>p1_conf</th>\n",
       "      <th>p1_dog</th>\n",
       "      <th>p2</th>\n",
       "      <th>p2_conf</th>\n",
       "      <th>p2_dog</th>\n",
       "      <th>p3</th>\n",
       "      <th>p3_conf</th>\n",
       "      <th>p3_dog</th>\n",
       "    </tr>\n",
       "  </thead>\n",
       "  <tbody>\n",
       "    <tr>\n",
       "      <td>854</td>\n",
       "      <td>696488710901260288</td>\n",
       "      <td>https://pbs.twimg.com/media/CapsyfkWcAQ41uC.jpg</td>\n",
       "      <td>1</td>\n",
       "      <td>briard</td>\n",
       "      <td>0.369063</td>\n",
       "      <td>True</td>\n",
       "      <td>Scotch_terrier</td>\n",
       "      <td>0.168204</td>\n",
       "      <td>True</td>\n",
       "      <td>giant_schnauzer</td>\n",
       "      <td>0.120553</td>\n",
       "      <td>True</td>\n",
       "    </tr>\n",
       "    <tr>\n",
       "      <td>1727</td>\n",
       "      <td>820446719150292993</td>\n",
       "      <td>https://pbs.twimg.com/media/CxqsX-8XUAAEvjD.jpg</td>\n",
       "      <td>3</td>\n",
       "      <td>golden_retriever</td>\n",
       "      <td>0.938048</td>\n",
       "      <td>True</td>\n",
       "      <td>kuvasz</td>\n",
       "      <td>0.025119</td>\n",
       "      <td>True</td>\n",
       "      <td>Labrador_retriever</td>\n",
       "      <td>0.022977</td>\n",
       "      <td>True</td>\n",
       "    </tr>\n",
       "    <tr>\n",
       "      <td>795</td>\n",
       "      <td>690938899477221376</td>\n",
       "      <td>https://pbs.twimg.com/media/CZa1QnSWEAAEOVr.jpg</td>\n",
       "      <td>1</td>\n",
       "      <td>geyser</td>\n",
       "      <td>0.370318</td>\n",
       "      <td>False</td>\n",
       "      <td>seashore</td>\n",
       "      <td>0.274888</td>\n",
       "      <td>False</td>\n",
       "      <td>beacon</td>\n",
       "      <td>0.046397</td>\n",
       "      <td>False</td>\n",
       "    </tr>\n",
       "  </tbody>\n",
       "</table>\n",
       "</div>"
      ],
      "text/plain": [
       "                tweet_id                                          jpg_url  \\\n",
       "854   696488710901260288  https://pbs.twimg.com/media/CapsyfkWcAQ41uC.jpg   \n",
       "1727  820446719150292993  https://pbs.twimg.com/media/CxqsX-8XUAAEvjD.jpg   \n",
       "795   690938899477221376  https://pbs.twimg.com/media/CZa1QnSWEAAEOVr.jpg   \n",
       "\n",
       "      img_num                p1   p1_conf  p1_dog              p2   p2_conf  \\\n",
       "854         1            briard  0.369063    True  Scotch_terrier  0.168204   \n",
       "1727        3  golden_retriever  0.938048    True          kuvasz  0.025119   \n",
       "795         1            geyser  0.370318   False        seashore  0.274888   \n",
       "\n",
       "      p2_dog                  p3   p3_conf  p3_dog  \n",
       "854     True     giant_schnauzer  0.120553    True  \n",
       "1727    True  Labrador_retriever  0.022977    True  \n",
       "795    False              beacon  0.046397   False  "
      ]
     },
     "execution_count": 22,
     "metadata": {},
     "output_type": "execute_result"
    }
   ],
   "source": [
    "predictions_df.sample(3)"
   ]
  },
  {
   "cell_type": "code",
   "execution_count": 23,
   "metadata": {},
   "outputs": [
    {
     "name": "stdout",
     "output_type": "stream",
     "text": [
      "<class 'pandas.core.frame.DataFrame'>\n",
      "RangeIndex: 2075 entries, 0 to 2074\n",
      "Data columns (total 12 columns):\n",
      "tweet_id    2075 non-null int64\n",
      "jpg_url     2075 non-null object\n",
      "img_num     2075 non-null int64\n",
      "p1          2075 non-null object\n",
      "p1_conf     2075 non-null float64\n",
      "p1_dog      2075 non-null bool\n",
      "p2          2075 non-null object\n",
      "p2_conf     2075 non-null float64\n",
      "p2_dog      2075 non-null bool\n",
      "p3          2075 non-null object\n",
      "p3_conf     2075 non-null float64\n",
      "p3_dog      2075 non-null bool\n",
      "dtypes: bool(3), float64(3), int64(2), object(4)\n",
      "memory usage: 152.1+ KB\n"
     ]
    }
   ],
   "source": [
    "# Looks like we don´t have any missing data here, however column names look poor descriptive\n",
    "predictions_df.info()"
   ]
  },
  {
   "cell_type": "code",
   "execution_count": 24,
   "metadata": {},
   "outputs": [
    {
     "data": {
      "text/html": [
       "<div>\n",
       "<style scoped>\n",
       "    .dataframe tbody tr th:only-of-type {\n",
       "        vertical-align: middle;\n",
       "    }\n",
       "\n",
       "    .dataframe tbody tr th {\n",
       "        vertical-align: top;\n",
       "    }\n",
       "\n",
       "    .dataframe thead th {\n",
       "        text-align: right;\n",
       "    }\n",
       "</style>\n",
       "<table border=\"1\" class=\"dataframe\">\n",
       "  <thead>\n",
       "    <tr style=\"text-align: right;\">\n",
       "      <th></th>\n",
       "      <th>tweet_id</th>\n",
       "      <th>jpg_url</th>\n",
       "      <th>img_num</th>\n",
       "      <th>p1</th>\n",
       "      <th>p1_conf</th>\n",
       "      <th>p1_dog</th>\n",
       "      <th>p2</th>\n",
       "      <th>p2_conf</th>\n",
       "      <th>p2_dog</th>\n",
       "      <th>p3</th>\n",
       "      <th>p3_conf</th>\n",
       "      <th>p3_dog</th>\n",
       "    </tr>\n",
       "  </thead>\n",
       "  <tbody>\n",
       "    <tr>\n",
       "      <td>1831</td>\n",
       "      <td>836380477523124226</td>\n",
       "      <td>https://pbs.twimg.com/media/C5trm6iWgAQ22Hw.jpg</td>\n",
       "      <td>1</td>\n",
       "      <td>wooden_spoon</td>\n",
       "      <td>0.082489</td>\n",
       "      <td>False</td>\n",
       "      <td>sliding_door</td>\n",
       "      <td>0.061017</td>\n",
       "      <td>False</td>\n",
       "      <td>grand_piano</td>\n",
       "      <td>0.055086</td>\n",
       "      <td>False</td>\n",
       "    </tr>\n",
       "    <tr>\n",
       "      <td>39</td>\n",
       "      <td>666649482315059201</td>\n",
       "      <td>https://pbs.twimg.com/media/CUBqKnLWwAA5OQB.jpg</td>\n",
       "      <td>1</td>\n",
       "      <td>Border_collie</td>\n",
       "      <td>0.447803</td>\n",
       "      <td>True</td>\n",
       "      <td>English_springer</td>\n",
       "      <td>0.170497</td>\n",
       "      <td>True</td>\n",
       "      <td>collie</td>\n",
       "      <td>0.139206</td>\n",
       "      <td>True</td>\n",
       "    </tr>\n",
       "    <tr>\n",
       "      <td>360</td>\n",
       "      <td>672640509974827008</td>\n",
       "      <td>https://pbs.twimg.com/media/CVWy9v-VAAALSoE.jpg</td>\n",
       "      <td>1</td>\n",
       "      <td>Chesapeake_Bay_retriever</td>\n",
       "      <td>0.420155</td>\n",
       "      <td>True</td>\n",
       "      <td>Cardigan</td>\n",
       "      <td>0.266030</td>\n",
       "      <td>True</td>\n",
       "      <td>Labrador_retriever</td>\n",
       "      <td>0.042514</td>\n",
       "      <td>True</td>\n",
       "    </tr>\n",
       "  </tbody>\n",
       "</table>\n",
       "</div>"
      ],
      "text/plain": [
       "                tweet_id                                          jpg_url  \\\n",
       "1831  836380477523124226  https://pbs.twimg.com/media/C5trm6iWgAQ22Hw.jpg   \n",
       "39    666649482315059201  https://pbs.twimg.com/media/CUBqKnLWwAA5OQB.jpg   \n",
       "360   672640509974827008  https://pbs.twimg.com/media/CVWy9v-VAAALSoE.jpg   \n",
       "\n",
       "      img_num                        p1   p1_conf  p1_dog                p2  \\\n",
       "1831        1              wooden_spoon  0.082489   False      sliding_door   \n",
       "39          1             Border_collie  0.447803    True  English_springer   \n",
       "360         1  Chesapeake_Bay_retriever  0.420155    True          Cardigan   \n",
       "\n",
       "       p2_conf  p2_dog                  p3   p3_conf  p3_dog  \n",
       "1831  0.061017   False         grand_piano  0.055086   False  \n",
       "39    0.170497    True              collie  0.139206    True  \n",
       "360   0.266030    True  Labrador_retriever  0.042514    True  "
      ]
     },
     "execution_count": 24,
     "metadata": {},
     "output_type": "execute_result"
    }
   ],
   "source": [
    "# By sampling a little bit, we can see that tag names are sometimes capitalized, sometimes lowercase\n",
    "predictions_df.sample(3)"
   ]
  },
  {
   "cell_type": "code",
   "execution_count": 25,
   "metadata": {},
   "outputs": [
    {
     "data": {
      "text/html": [
       "<div>\n",
       "<style scoped>\n",
       "    .dataframe tbody tr th:only-of-type {\n",
       "        vertical-align: middle;\n",
       "    }\n",
       "\n",
       "    .dataframe tbody tr th {\n",
       "        vertical-align: top;\n",
       "    }\n",
       "\n",
       "    .dataframe thead th {\n",
       "        text-align: right;\n",
       "    }\n",
       "</style>\n",
       "<table border=\"1\" class=\"dataframe\">\n",
       "  <thead>\n",
       "    <tr style=\"text-align: right;\">\n",
       "      <th></th>\n",
       "      <th>p1_conf</th>\n",
       "      <th>p2_conf</th>\n",
       "      <th>p3_conf</th>\n",
       "    </tr>\n",
       "  </thead>\n",
       "  <tbody>\n",
       "    <tr>\n",
       "      <td>count</td>\n",
       "      <td>2075.000000</td>\n",
       "      <td>2.075000e+03</td>\n",
       "      <td>2.075000e+03</td>\n",
       "    </tr>\n",
       "    <tr>\n",
       "      <td>mean</td>\n",
       "      <td>0.594548</td>\n",
       "      <td>1.345886e-01</td>\n",
       "      <td>6.032417e-02</td>\n",
       "    </tr>\n",
       "    <tr>\n",
       "      <td>std</td>\n",
       "      <td>0.271174</td>\n",
       "      <td>1.006657e-01</td>\n",
       "      <td>5.090593e-02</td>\n",
       "    </tr>\n",
       "    <tr>\n",
       "      <td>min</td>\n",
       "      <td>0.044333</td>\n",
       "      <td>1.011300e-08</td>\n",
       "      <td>1.740170e-10</td>\n",
       "    </tr>\n",
       "    <tr>\n",
       "      <td>25%</td>\n",
       "      <td>0.364412</td>\n",
       "      <td>5.388625e-02</td>\n",
       "      <td>1.622240e-02</td>\n",
       "    </tr>\n",
       "    <tr>\n",
       "      <td>50%</td>\n",
       "      <td>0.588230</td>\n",
       "      <td>1.181810e-01</td>\n",
       "      <td>4.944380e-02</td>\n",
       "    </tr>\n",
       "    <tr>\n",
       "      <td>75%</td>\n",
       "      <td>0.843855</td>\n",
       "      <td>1.955655e-01</td>\n",
       "      <td>9.180755e-02</td>\n",
       "    </tr>\n",
       "    <tr>\n",
       "      <td>max</td>\n",
       "      <td>1.000000</td>\n",
       "      <td>4.880140e-01</td>\n",
       "      <td>2.734190e-01</td>\n",
       "    </tr>\n",
       "  </tbody>\n",
       "</table>\n",
       "</div>"
      ],
      "text/plain": [
       "           p1_conf       p2_conf       p3_conf\n",
       "count  2075.000000  2.075000e+03  2.075000e+03\n",
       "mean      0.594548  1.345886e-01  6.032417e-02\n",
       "std       0.271174  1.006657e-01  5.090593e-02\n",
       "min       0.044333  1.011300e-08  1.740170e-10\n",
       "25%       0.364412  5.388625e-02  1.622240e-02\n",
       "50%       0.588230  1.181810e-01  4.944380e-02\n",
       "75%       0.843855  1.955655e-01  9.180755e-02\n",
       "max       1.000000  4.880140e-01  2.734190e-01"
      ]
     },
     "execution_count": 25,
     "metadata": {},
     "output_type": "execute_result"
    }
   ],
   "source": [
    "# We can see all probability values are valid (any value between 0 and 1)\n",
    "predictions_df.describe()[['p1_conf', 'p2_conf', 'p3_conf']]"
   ]
  },
  {
   "cell_type": "markdown",
   "metadata": {},
   "source": [
    "<a id=\"quality_notes\"></a>\n",
    "\n",
    "### Quality Notes\n",
    "\n",
    "##### `twitter-archive-enhanced` data frame\n",
    "- Data frame contains some some non original tweets (observations with a non-null `retweeted_status_id`) \n",
    "- 59 Missing `expanded_urls` for tweets\n",
    "- A bunch of tweets have invalid numerators (for example tweet 883482846933004288, captured value is 5 instead of 13.5).\n",
    "- Invalid denominator zero (tweet 835246439529840640)\n",
    "- Invaild rate for tweet 666287406224695296, it should be 9/10\n",
    "- `timestamp` data type is string instead datetime\n",
    "- Mistaken captured dog names (such as \"a\", \"an\", \"by\" etc ...)\n",
    "- Standarize \"None\" values for missing dog names as NaN \n",
    "\n",
    "##### `predictions` data frame\n",
    "- Consistency issue: Standarize tag values by lowercasing all of them."
   ]
  },
  {
   "cell_type": "markdown",
   "metadata": {},
   "source": [
    "<a id=\"tidiness_notes\"></a>\n",
    "\n",
    "### Tidiness Notes\n",
    "\n",
    "- For simplicity on all data frames, let´s assign `tweet_id` as the index and convert it to string (we are not going to perform mathematical operations over tweet id's)\n",
    "\n",
    "##### `twitter-archive-enhanced` data frame\n",
    "- Dog stage should be concentrated in just one column `dog_stage` with categorical value from (doggo, floofer, pupper, puppo, None)\n",
    "- There should be only 1 dataset with tweet information. Blend tweets from archive, from API and predictions into a single dataframe\n",
    "- Create a column that condenses rating information:  `rating_numerator` / `rating_denominator`\n",
    "\n",
    "##### `twitter-api` data frame\n",
    "- Rename `id` as `tweet_id`. This is the standard name used in the rest of datafarmes\n",
    "- For each tweet, extract `tweet_id` and from `extended_media`, pull out `media_url`, `type` and order in the array. Create a new entry with those values in a `media_assets` data frame. \n",
    "\n",
    "##### `predictions` data frame\n",
    "- Give more friendly name to columns (p1 -> tag1, p1_conf -> tag1_probability, p1_dog tag1_is_dog)\n"
   ]
  },
  {
   "cell_type": "markdown",
   "metadata": {},
   "source": [
    "<a id=\"cleaning_section\"></a>\n",
    "\n",
    "## Cleaning"
   ]
  },
  {
   "cell_type": "markdown",
   "metadata": {},
   "source": [
    "It is generally best to tackle tidy issues first, then quality issues next, as it´s easier to clean up dirty data in a well strutured framework. So we are going to start working on Tidiness points above first"
   ]
  },
  {
   "cell_type": "code",
   "execution_count": 26,
   "metadata": {},
   "outputs": [],
   "source": [
    "archive_df_clean = archive_df.copy()\n",
    "api_tweets_df_clean = api_tweets_df.copy()\n",
    "predictions_df_clean = predictions_df.copy()"
   ]
  },
  {
   "cell_type": "markdown",
   "metadata": {},
   "source": [
    "<a id=\"cleaning_tidiness\"></a>\n",
    "\n",
    "### Tidiness"
   ]
  },
  {
   "cell_type": "markdown",
   "metadata": {},
   "source": [
    "##### Define\n",
    "For api tweets data frame, rename id as `tweet_id`. This is the standard name used in the rest of datafarmes"
   ]
  },
  {
   "cell_type": "markdown",
   "metadata": {},
   "source": [
    "##### Code"
   ]
  },
  {
   "cell_type": "code",
   "execution_count": 27,
   "metadata": {},
   "outputs": [],
   "source": [
    "api_tweets_df_clean.rename(columns={'id':'tweet_id'}, inplace=True)"
   ]
  },
  {
   "cell_type": "markdown",
   "metadata": {},
   "source": [
    "##### Test"
   ]
  },
  {
   "cell_type": "code",
   "execution_count": 28,
   "metadata": {},
   "outputs": [],
   "source": [
    "assert \"tweet_id\" in api_tweets_df_clean.columns.to_list()"
   ]
  },
  {
   "cell_type": "markdown",
   "metadata": {},
   "source": [
    "##### Define\n",
    "\n",
    "Reindex all dataframes to their `tweet_id` values"
   ]
  },
  {
   "cell_type": "markdown",
   "metadata": {},
   "source": [
    "##### Code"
   ]
  },
  {
   "cell_type": "code",
   "execution_count": 29,
   "metadata": {},
   "outputs": [],
   "source": [
    "# set tweet_id as our index in all data frames\n",
    "archive_df_clean.set_index('tweet_id', inplace=True)\n",
    "api_tweets_df_clean.set_index('tweet_id', inplace=True)\n",
    "predictions_df_clean.set_index('tweet_id', inplace=True)"
   ]
  },
  {
   "cell_type": "code",
   "execution_count": 30,
   "metadata": {},
   "outputs": [],
   "source": [
    "# Then change types to string\n",
    "archive_df_clean.index = archive_df_clean.index.astype(str)\n",
    "api_tweets_df_clean.index = api_tweets_df_clean.index.astype(str)\n",
    "predictions_df_clean.index = predictions_df_clean.index.astype(str)"
   ]
  },
  {
   "cell_type": "markdown",
   "metadata": {},
   "source": [
    "##### Test"
   ]
  },
  {
   "cell_type": "code",
   "execution_count": 31,
   "metadata": {},
   "outputs": [],
   "source": [
    "assert archive_df_clean.index.name == 'tweet_id'\n",
    "assert archive_df_clean.index.dtype == np.dtype(np.object)\n",
    "assert api_tweets_df_clean.index.name == 'tweet_id'\n",
    "assert api_tweets_df_clean.index.dtype == np.dtype(np.object)\n",
    "assert predictions_df_clean.index.name == 'tweet_id'\n",
    "assert predictions_df_clean.index.dtype == np.dtype(np.object)"
   ]
  },
  {
   "cell_type": "markdown",
   "metadata": {},
   "source": [
    "##### Define\n",
    "Pull out media entries from `extended_media`,\n",
    "For each entry, extract `media_url`, `type` and order in the array,then create a new entry with those values in a `media_assets` data frame. "
   ]
  },
  {
   "cell_type": "markdown",
   "metadata": {},
   "source": [
    "##### Code"
   ]
  },
  {
   "cell_type": "code",
   "execution_count": 32,
   "metadata": {},
   "outputs": [],
   "source": [
    "media_entries = []\n",
    "media_json_df = api_tweets_df_clean[api_tweets_df_clean.extended_entities.notna()][['extended_entities']]\n",
    "\n",
    "for row in media_json_df.itertuples():\n",
    "    tweet_id = row[0]\n",
    "    media_list = row[1]['media']\n",
    "    asset_index = 1\n",
    "    for asset in media_list:\n",
    "\n",
    "        media_entries.append({'tweet_id' : tweet_id, 'media_url': asset['media_url'], 'type' : asset['type'], 'expanded_url' : asset['expanded_url'], 'asset_number' : asset_index})\n",
    "        asset_index += 1\n",
    "\n",
    "media_assets_df = pd.DataFrame(media_entries, columns=['tweet_id', 'media_url', 'type', 'expanded_url', 'asset_number'])"
   ]
  },
  {
   "cell_type": "markdown",
   "metadata": {},
   "source": [
    "##### Test"
   ]
  },
  {
   "cell_type": "code",
   "execution_count": 33,
   "metadata": {},
   "outputs": [
    {
     "data": {
      "text/html": [
       "<div>\n",
       "<style scoped>\n",
       "    .dataframe tbody tr th:only-of-type {\n",
       "        vertical-align: middle;\n",
       "    }\n",
       "\n",
       "    .dataframe tbody tr th {\n",
       "        vertical-align: top;\n",
       "    }\n",
       "\n",
       "    .dataframe thead th {\n",
       "        text-align: right;\n",
       "    }\n",
       "</style>\n",
       "<table border=\"1\" class=\"dataframe\">\n",
       "  <thead>\n",
       "    <tr style=\"text-align: right;\">\n",
       "      <th></th>\n",
       "      <th>tweet_id</th>\n",
       "      <th>media_url</th>\n",
       "      <th>type</th>\n",
       "      <th>expanded_url</th>\n",
       "      <th>asset_number</th>\n",
       "    </tr>\n",
       "  </thead>\n",
       "  <tbody>\n",
       "    <tr>\n",
       "      <td>2546</td>\n",
       "      <td>673240798075449344</td>\n",
       "      <td>http://pbs.twimg.com/media/CVfU7KLXAAAAgIa.jpg</td>\n",
       "      <td>photo</td>\n",
       "      <td>https://twitter.com/dog_rates/status/673240798...</td>\n",
       "      <td>1</td>\n",
       "    </tr>\n",
       "    <tr>\n",
       "      <td>1036</td>\n",
       "      <td>779123168116150273</td>\n",
       "      <td>http://pbs.twimg.com/media/CtAAYizW8AAWzBZ.jpg</td>\n",
       "      <td>photo</td>\n",
       "      <td>https://twitter.com/dog_rates/status/779123168...</td>\n",
       "      <td>1</td>\n",
       "    </tr>\n",
       "    <tr>\n",
       "      <td>1900</td>\n",
       "      <td>699801817392291840</td>\n",
       "      <td>http://pbs.twimg.com/media/CbYyCMcWIAAHHjF.jpg</td>\n",
       "      <td>photo</td>\n",
       "      <td>https://twitter.com/dog_rates/status/699801817...</td>\n",
       "      <td>2</td>\n",
       "    </tr>\n",
       "    <tr>\n",
       "      <td>304</td>\n",
       "      <td>849412302885593088</td>\n",
       "      <td>http://pbs.twimg.com/media/C8m3-hmWsAUmhkK.jpg</td>\n",
       "      <td>photo</td>\n",
       "      <td>https://twitter.com/dog_rates/status/849412302...</td>\n",
       "      <td>3</td>\n",
       "    </tr>\n",
       "  </tbody>\n",
       "</table>\n",
       "</div>"
      ],
      "text/plain": [
       "                tweet_id                                       media_url  \\\n",
       "2546  673240798075449344  http://pbs.twimg.com/media/CVfU7KLXAAAAgIa.jpg   \n",
       "1036  779123168116150273  http://pbs.twimg.com/media/CtAAYizW8AAWzBZ.jpg   \n",
       "1900  699801817392291840  http://pbs.twimg.com/media/CbYyCMcWIAAHHjF.jpg   \n",
       "304   849412302885593088  http://pbs.twimg.com/media/C8m3-hmWsAUmhkK.jpg   \n",
       "\n",
       "       type                                       expanded_url  asset_number  \n",
       "2546  photo  https://twitter.com/dog_rates/status/673240798...             1  \n",
       "1036  photo  https://twitter.com/dog_rates/status/779123168...             1  \n",
       "1900  photo  https://twitter.com/dog_rates/status/699801817...             2  \n",
       "304   photo  https://twitter.com/dog_rates/status/849412302...             3  "
      ]
     },
     "execution_count": 33,
     "metadata": {},
     "output_type": "execute_result"
    }
   ],
   "source": [
    "media_assets_df.sample(4)"
   ]
  },
  {
   "cell_type": "markdown",
   "metadata": {},
   "source": [
    "##### Define\n",
    "There should be only 1 data frame with tweet information. \n",
    "Gather additional columns of interest from api tweets data frame (retweet_count, favorite_count, extended_entities) as well as predictions into a tweet archive dataframe using `tweet_id` as the common column."
   ]
  },
  {
   "cell_type": "markdown",
   "metadata": {},
   "source": [
    "##### Code"
   ]
  },
  {
   "cell_type": "code",
   "execution_count": 34,
   "metadata": {},
   "outputs": [],
   "source": [
    "archive_df_clean = pd.merge(archive_df_clean, api_tweets_df_clean[['retweet_count', 'favorite_count']], how=\"left\", on=[\"tweet_id\"])"
   ]
  },
  {
   "cell_type": "code",
   "execution_count": 35,
   "metadata": {},
   "outputs": [],
   "source": [
    "archive_df_clean = pd.merge(archive_df_clean, predictions_df_clean, how=\"left\", on=[\"tweet_id\"])"
   ]
  },
  {
   "cell_type": "markdown",
   "metadata": {},
   "source": [
    "##### Test"
   ]
  },
  {
   "cell_type": "code",
   "execution_count": 36,
   "metadata": {},
   "outputs": [],
   "source": [
    "assert \"retweet_count\" in archive_df_clean.columns.to_list()\n",
    "assert \"favorite_count\" in archive_df_clean.columns.to_list()"
   ]
  },
  {
   "cell_type": "code",
   "execution_count": 37,
   "metadata": {},
   "outputs": [
    {
     "data": {
      "text/plain": [
       "Index(['in_reply_to_status_id', 'in_reply_to_user_id', 'timestamp', 'source',\n",
       "       'text', 'retweeted_status_id', 'retweeted_status_user_id',\n",
       "       'retweeted_status_timestamp', 'expanded_urls', 'rating_numerator',\n",
       "       'rating_denominator', 'name', 'doggo', 'floofer', 'pupper', 'puppo',\n",
       "       'retweet_count', 'favorite_count', 'jpg_url', 'img_num', 'p1',\n",
       "       'p1_conf', 'p1_dog', 'p2', 'p2_conf', 'p2_dog', 'p3', 'p3_conf',\n",
       "       'p3_dog'],\n",
       "      dtype='object')"
      ]
     },
     "execution_count": 37,
     "metadata": {},
     "output_type": "execute_result"
    }
   ],
   "source": [
    "archive_df_clean.columns"
   ]
  },
  {
   "cell_type": "markdown",
   "metadata": {},
   "source": [
    "##### Define\n",
    "During import process, `retweet_count` and `favorite_count` got converted to float (because there are couple of tweets with this missing data). Assign missing values for mentioned couple columsn to zero then convert them back to int type."
   ]
  },
  {
   "cell_type": "markdown",
   "metadata": {},
   "source": [
    "##### Code"
   ]
  },
  {
   "cell_type": "code",
   "execution_count": 38,
   "metadata": {},
   "outputs": [],
   "source": [
    "archive_df_clean.loc[archive_df_clean.retweet_count.isna(), 'retweet_count'] = 0\n",
    "archive_df_clean.loc[archive_df_clean.favorite_count.isna(), 'favorite_count'] = 0"
   ]
  },
  {
   "cell_type": "code",
   "execution_count": 39,
   "metadata": {},
   "outputs": [],
   "source": [
    "archive_df_clean.retweet_count = archive_df_clean.retweet_count.astype(np.int32)\n",
    "archive_df_clean.favorite_count = archive_df_clean.favorite_count.astype(np.int32)"
   ]
  },
  {
   "cell_type": "markdown",
   "metadata": {},
   "source": [
    "##### Test"
   ]
  },
  {
   "cell_type": "code",
   "execution_count": 40,
   "metadata": {},
   "outputs": [],
   "source": [
    "assert archive_df_clean.retweet_count.dtype == np.dtype('int32')\n",
    "assert archive_df_clean.favorite_count.dtype == np.dtype('int32')"
   ]
  },
  {
   "cell_type": "markdown",
   "metadata": {},
   "source": [
    "##### Define\n",
    "Concatenate values from columns doggo, floofer, pupper and puppo, then assign concatenation string into a single column called `dog_stage`. Finally, remove previous 4 mentioned columns, we don´t need them anymore."
   ]
  },
  {
   "cell_type": "markdown",
   "metadata": {},
   "source": [
    "##### Code"
   ]
  },
  {
   "cell_type": "code",
   "execution_count": 41,
   "metadata": {},
   "outputs": [],
   "source": [
    "# Concatenate values \n",
    "archive_df_clean['dog_stage'] = archive_df_clean['doggo'] + \" \" + archive_df_clean['floofer'] + \" \" + archive_df_clean['pupper'] + \" \" + archive_df_clean['puppo']\n",
    "# Then process string concatenation \n",
    "archive_df_clean['dog_stage'] = archive_df_clean['dog_stage'].str.replace(\"None\", \"\")\n",
    "archive_df_clean['dog_stage'] = archive_df_clean['dog_stage'].str.strip()\n",
    "archive_df_clean['dog_stage'] = archive_df_clean['dog_stage'].str.replace(r'\\s+',', ')"
   ]
  },
  {
   "cell_type": "code",
   "execution_count": 42,
   "metadata": {},
   "outputs": [],
   "source": [
    "# replace all empty values by np.NaN\n",
    "archive_df_clean.loc[archive_df_clean.dog_stage == '', 'dog_stage'] = np.NAN"
   ]
  },
  {
   "cell_type": "code",
   "execution_count": 43,
   "metadata": {},
   "outputs": [],
   "source": [
    "archive_df_clean.drop(columns=['doggo', 'floofer', 'pupper', 'puppo'], axis=1, inplace=True)"
   ]
  },
  {
   "cell_type": "markdown",
   "metadata": {},
   "source": [
    "##### Test"
   ]
  },
  {
   "cell_type": "code",
   "execution_count": 44,
   "metadata": {},
   "outputs": [
    {
     "data": {
      "text/plain": [
       "pupper            245\n",
       "doggo              83\n",
       "puppo              29\n",
       "doggo, pupper      12\n",
       "floofer             9\n",
       "doggo, floofer      1\n",
       "doggo, puppo        1\n",
       "Name: dog_stage, dtype: int64"
      ]
     },
     "execution_count": 44,
     "metadata": {},
     "output_type": "execute_result"
    }
   ],
   "source": [
    "# Verify available values for dog_stage \n",
    "archive_df_clean.dog_stage.value_counts()"
   ]
  },
  {
   "cell_type": "code",
   "execution_count": 45,
   "metadata": {},
   "outputs": [],
   "source": [
    "# Make sure all other columns are no longer part of data frame\n",
    "column_names = list(archive_df_clean)\n",
    "assert \"doggo\" not in column_names\n",
    "assert \"floofer\" not in column_names\n",
    "assert \"pupper\" not in column_names\n",
    "assert \"puppo\" not in column_names"
   ]
  },
  {
   "cell_type": "markdown",
   "metadata": {},
   "source": [
    "##### Define\n",
    "\n",
    "Create a column that condenses rating information: rating_numerator / rating_denominator"
   ]
  },
  {
   "cell_type": "markdown",
   "metadata": {},
   "source": [
    "##### Code"
   ]
  },
  {
   "cell_type": "code",
   "execution_count": 46,
   "metadata": {},
   "outputs": [],
   "source": [
    "archive_df_clean['rating'] = archive_df_clean.rating_numerator / archive_df_clean.rating_denominator"
   ]
  },
  {
   "cell_type": "markdown",
   "metadata": {},
   "source": [
    "##### Test"
   ]
  },
  {
   "cell_type": "code",
   "execution_count": 47,
   "metadata": {},
   "outputs": [
    {
     "data": {
      "text/plain": [
       "inf             1\n",
       "177.600000      1\n",
       "66.600000       1\n",
       "42.000000       2\n",
       "18.200000       1\n",
       "7.500000        2\n",
       "3.428571        1\n",
       "2.700000        1\n",
       "2.600000        1\n",
       "1.700000        1\n",
       "1.500000        2\n",
       "1.400000       54\n",
       "1.300000      351\n",
       "1.250000        1\n",
       "1.200000      562\n",
       "1.100000      469\n",
       "1.000000      463\n",
       "0.900000      157\n",
       "0.818182        2\n",
       "0.800000      102\n",
       "0.733333        1\n",
       "0.700000       54\n",
       "0.636364        1\n",
       "0.600000       32\n",
       "0.500000       38\n",
       "0.400000       15\n",
       "0.300000       19\n",
       "0.200000       11\n",
       "0.100000        8\n",
       "0.000000        2\n",
       "Name: rating, dtype: int64"
      ]
     },
     "execution_count": 47,
     "metadata": {},
     "output_type": "execute_result"
    }
   ],
   "source": [
    "# We can detect there is one 'infinite value', this is because it is an entry \n",
    "# with invalid rating_denominator = 0, we are going to address that dirty data later.\n",
    "archive_df_clean.rating.value_counts().sort_index(ascending=False)"
   ]
  },
  {
   "cell_type": "markdown",
   "metadata": {},
   "source": [
    "##### Define\n",
    "\n",
    "Give prediction columns more meaningful names (p1 -> tag1, p1_conf -> tag1_probability, p1_dog tag1_is_dog)"
   ]
  },
  {
   "cell_type": "markdown",
   "metadata": {},
   "source": [
    "##### Code"
   ]
  },
  {
   "cell_type": "code",
   "execution_count": 48,
   "metadata": {},
   "outputs": [],
   "source": [
    "archive_df_clean.rename(columns={'p1' : 'tag1', 'p1_conf' : 'tag1_probability', 'p1_dog' : 'tag1_is_dog','p2' : 'tag2', 'p2_conf' : 'tag2_probability', 'p2_dog' : 'tag2_is_dog', 'p3' : 'tag3', 'p3_conf' : 'tag3_probability', 'p3_dog' : 'tag3_is_dog'}, inplace=True)"
   ]
  },
  {
   "cell_type": "markdown",
   "metadata": {},
   "source": [
    "##### Test"
   ]
  },
  {
   "cell_type": "code",
   "execution_count": 49,
   "metadata": {},
   "outputs": [
    {
     "data": {
      "text/plain": [
       "Index(['in_reply_to_status_id', 'in_reply_to_user_id', 'timestamp', 'source',\n",
       "       'text', 'retweeted_status_id', 'retweeted_status_user_id',\n",
       "       'retweeted_status_timestamp', 'expanded_urls', 'rating_numerator',\n",
       "       'rating_denominator', 'name', 'retweet_count', 'favorite_count',\n",
       "       'jpg_url', 'img_num', 'tag1', 'tag1_probability', 'tag1_is_dog', 'tag2',\n",
       "       'tag2_probability', 'tag2_is_dog', 'tag3', 'tag3_probability',\n",
       "       'tag3_is_dog', 'dog_stage', 'rating'],\n",
       "      dtype='object')"
      ]
     },
     "execution_count": 49,
     "metadata": {},
     "output_type": "execute_result"
    }
   ],
   "source": [
    "archive_df_clean.columns"
   ]
  },
  {
   "cell_type": "markdown",
   "metadata": {},
   "source": [
    "<a id=\"cleaning_quality\"></a>\n",
    "\n",
    "### Data quality"
   ]
  },
  {
   "cell_type": "markdown",
   "metadata": {},
   "source": [
    "##### Define\n",
    "\n",
    "- Before start cleaning dirty data in archive data frame, we might want to get rid of observations that does not meet our specifications. Indeed, data frame contains some retweets .We want original tweets only. Filter all entries with non-null `retweeted_status_id`\n"
   ]
  },
  {
   "cell_type": "markdown",
   "metadata": {},
   "source": [
    "##### Code"
   ]
  },
  {
   "cell_type": "code",
   "execution_count": 50,
   "metadata": {},
   "outputs": [],
   "source": [
    "archive_df_clean = archive_df_clean[archive_df_clean.retweeted_status_id.isnull()]"
   ]
  },
  {
   "cell_type": "markdown",
   "metadata": {},
   "source": [
    "##### Test"
   ]
  },
  {
   "cell_type": "code",
   "execution_count": 51,
   "metadata": {},
   "outputs": [],
   "source": [
    "assert archive_df_clean.retweeted_status_id.notnull().sum() == 0"
   ]
  },
  {
   "cell_type": "markdown",
   "metadata": {},
   "source": [
    "##### Define\n",
    "\n",
    "- `expanded_urls` it´s an important data piece for a tweet. It is actually tweet´s url. Verify if this information is present on other dataframes so we can fill those missing urls in archive data frame."
   ]
  },
  {
   "cell_type": "markdown",
   "metadata": {},
   "source": [
    "##### Code"
   ]
  },
  {
   "cell_type": "code",
   "execution_count": 52,
   "metadata": {},
   "outputs": [
    {
     "data": {
      "text/plain": [
       "Index(['886267009285017600', '881633300179243008', '879674319642796034',\n",
       "       '870726314365509632', '863427515083354112', '857214891891077121',\n",
       "       '856288084350160898', '855862651834028034', '855860136149123072',\n",
       "       '850333567704068097', '848213670039564288', '847617282490613760',\n",
       "       '840698636975636481', '838150277551247360', '838085839343206401',\n",
       "       '835246439529840640', '832088576586297345', '831926988323639298',\n",
       "       '828361771580813312', '826598799820865537', '823333489516937216',\n",
       "       '821153421864615936', '813130366689148928', '811647686436880384',\n",
       "       '801854953262350336', '800859414831898624', '797165961484890113',\n",
       "       '786051337297522688', '785515384317313025', '766714921925144576',\n",
       "       '763956972077010945', '750381685133418496', '747651430853525504',\n",
       "       '738891149612572673', '707983188426153984', '704491224099647488',\n",
       "       '696518437233913856', '696490539101908992', '693644216740769793',\n",
       "       '693582294167244802', '692423280028966913', '690607260360429569',\n",
       "       '686035780142297088', '685681090388975616', '684969860808454144',\n",
       "       '682808988178739200', '681340665377193984', '678023323247357953',\n",
       "       '676590572941893632', '675849018447167488', '674742531037511680',\n",
       "       '674606911342424069', '674330906434379776', '673716320723169284',\n",
       "       '671550332464455680', '669684865554620416', '668967877119254528',\n",
       "       '667070482143944705'],\n",
       "      dtype='object', name='tweet_id')"
      ]
     },
     "execution_count": 52,
     "metadata": {},
     "output_type": "execute_result"
    }
   ],
   "source": [
    "# tweet id´s for those tweets without url\n",
    "missing_urls_index = archive_df_clean[archive_df_clean.expanded_urls.isna()].index\n",
    "missing_urls_index"
   ]
  },
  {
   "cell_type": "code",
   "execution_count": 53,
   "metadata": {},
   "outputs": [
    {
     "data": {
      "text/plain": [
       "tweet_id\n",
       "886267009285017600    NaN\n",
       "881633300179243008    NaN\n",
       "879674319642796034    NaN\n",
       "870726314365509632    NaN\n",
       "863427515083354112    NaN\n",
       "857214891891077121    NaN\n",
       "856288084350160898    NaN\n",
       "855862651834028034    NaN\n",
       "855860136149123072    NaN\n",
       "850333567704068097    NaN\n",
       "848213670039564288    NaN\n",
       "847617282490613760    NaN\n",
       "840698636975636481    NaN\n",
       "838150277551247360    NaN\n",
       "838085839343206401    NaN\n",
       "835246439529840640    NaN\n",
       "832088576586297345    NaN\n",
       "831926988323639298    NaN\n",
       "828361771580813312    NaN\n",
       "826598799820865537    NaN\n",
       "823333489516937216    NaN\n",
       "821153421864615936    NaN\n",
       "813130366689148928    NaN\n",
       "811647686436880384    NaN\n",
       "801854953262350336    NaN\n",
       "800859414831898624    NaN\n",
       "797165961484890113    NaN\n",
       "786051337297522688    NaN\n",
       "785515384317313025    NaN\n",
       "766714921925144576    NaN\n",
       "763956972077010945    NaN\n",
       "750381685133418496    NaN\n",
       "747651430853525504    NaN\n",
       "738891149612572673    NaN\n",
       "707983188426153984    NaN\n",
       "704491224099647488    NaN\n",
       "696518437233913856    NaN\n",
       "696490539101908992    NaN\n",
       "693644216740769793    NaN\n",
       "693582294167244802    NaN\n",
       "692423280028966913    NaN\n",
       "690607260360429569    NaN\n",
       "686035780142297088    NaN\n",
       "685681090388975616    NaN\n",
       "684969860808454144    NaN\n",
       "682808988178739200    NaN\n",
       "681340665377193984    NaN\n",
       "678023323247357953    NaN\n",
       "676590572941893632    NaN\n",
       "675849018447167488    NaN\n",
       "674742531037511680    NaN\n",
       "674606911342424069    NaN\n",
       "674330906434379776    NaN\n",
       "673716320723169284    NaN\n",
       "671550332464455680    NaN\n",
       "669684865554620416    NaN\n",
       "668967877119254528    NaN\n",
       "667070482143944705    NaN\n",
       "Name: extended_entities, dtype: object"
      ]
     },
     "execution_count": 53,
     "metadata": {},
     "output_type": "execute_result"
    }
   ],
   "source": [
    "api_tweets_df_clean.loc[missing_urls_index, 'extended_entities']"
   ]
  },
  {
   "cell_type": "markdown",
   "metadata": {},
   "source": [
    "Unfortunately, none of those tweets have `media` data. Despite of this fact, I decided to keep those 59 tweets as a missing tweet url might not be so impactful for future analyses performed upon this data set. In fact, those tweets provide other valuable information such as ratings, retweet and favorite counts ..."
   ]
  },
  {
   "cell_type": "code",
   "execution_count": 54,
   "metadata": {},
   "outputs": [
    {
     "data": {
      "text/html": [
       "<div>\n",
       "<style scoped>\n",
       "    .dataframe tbody tr th:only-of-type {\n",
       "        vertical-align: middle;\n",
       "    }\n",
       "\n",
       "    .dataframe tbody tr th {\n",
       "        vertical-align: top;\n",
       "    }\n",
       "\n",
       "    .dataframe thead th {\n",
       "        text-align: right;\n",
       "    }\n",
       "</style>\n",
       "<table border=\"1\" class=\"dataframe\">\n",
       "  <thead>\n",
       "    <tr style=\"text-align: right;\">\n",
       "      <th></th>\n",
       "      <th>retweet_count</th>\n",
       "      <th>favorite_count</th>\n",
       "      <th>rating</th>\n",
       "    </tr>\n",
       "    <tr>\n",
       "      <th>tweet_id</th>\n",
       "      <th></th>\n",
       "      <th></th>\n",
       "      <th></th>\n",
       "    </tr>\n",
       "  </thead>\n",
       "  <tbody>\n",
       "    <tr>\n",
       "      <td>886267009285017600</td>\n",
       "      <td>4</td>\n",
       "      <td>117</td>\n",
       "      <td>1.200000</td>\n",
       "    </tr>\n",
       "    <tr>\n",
       "      <td>881633300179243008</td>\n",
       "      <td>7</td>\n",
       "      <td>129</td>\n",
       "      <td>1.700000</td>\n",
       "    </tr>\n",
       "    <tr>\n",
       "      <td>879674319642796034</td>\n",
       "      <td>10</td>\n",
       "      <td>315</td>\n",
       "      <td>1.400000</td>\n",
       "    </tr>\n",
       "    <tr>\n",
       "      <td>870726314365509632</td>\n",
       "      <td>3</td>\n",
       "      <td>121</td>\n",
       "      <td>1.000000</td>\n",
       "    </tr>\n",
       "    <tr>\n",
       "      <td>863427515083354112</td>\n",
       "      <td>105</td>\n",
       "      <td>2363</td>\n",
       "      <td>1.200000</td>\n",
       "    </tr>\n",
       "    <tr>\n",
       "      <td>857214891891077121</td>\n",
       "      <td>20</td>\n",
       "      <td>242</td>\n",
       "      <td>1.200000</td>\n",
       "    </tr>\n",
       "    <tr>\n",
       "      <td>856288084350160898</td>\n",
       "      <td>17</td>\n",
       "      <td>545</td>\n",
       "      <td>1.400000</td>\n",
       "    </tr>\n",
       "    <tr>\n",
       "      <td>855862651834028034</td>\n",
       "      <td>27</td>\n",
       "      <td>320</td>\n",
       "      <td>42.000000</td>\n",
       "    </tr>\n",
       "    <tr>\n",
       "      <td>855860136149123072</td>\n",
       "      <td>1058</td>\n",
       "      <td>4407</td>\n",
       "      <td>66.600000</td>\n",
       "    </tr>\n",
       "    <tr>\n",
       "      <td>850333567704068097</td>\n",
       "      <td>367</td>\n",
       "      <td>3647</td>\n",
       "      <td>1.300000</td>\n",
       "    </tr>\n",
       "    <tr>\n",
       "      <td>848213670039564288</td>\n",
       "      <td>832</td>\n",
       "      <td>8834</td>\n",
       "      <td>1.100000</td>\n",
       "    </tr>\n",
       "    <tr>\n",
       "      <td>847617282490613760</td>\n",
       "      <td>468</td>\n",
       "      <td>7558</td>\n",
       "      <td>1.300000</td>\n",
       "    </tr>\n",
       "    <tr>\n",
       "      <td>840698636975636481</td>\n",
       "      <td>3</td>\n",
       "      <td>197</td>\n",
       "      <td>1.000000</td>\n",
       "    </tr>\n",
       "    <tr>\n",
       "      <td>838150277551247360</td>\n",
       "      <td>370</td>\n",
       "      <td>1824</td>\n",
       "      <td>18.200000</td>\n",
       "    </tr>\n",
       "    <tr>\n",
       "      <td>838085839343206401</td>\n",
       "      <td>0</td>\n",
       "      <td>150</td>\n",
       "      <td>1.500000</td>\n",
       "    </tr>\n",
       "    <tr>\n",
       "      <td>835246439529840640</td>\n",
       "      <td>83</td>\n",
       "      <td>2259</td>\n",
       "      <td>inf</td>\n",
       "    </tr>\n",
       "    <tr>\n",
       "      <td>832088576586297345</td>\n",
       "      <td>3</td>\n",
       "      <td>72</td>\n",
       "      <td>0.733333</td>\n",
       "    </tr>\n",
       "    <tr>\n",
       "      <td>831926988323639298</td>\n",
       "      <td>39</td>\n",
       "      <td>369</td>\n",
       "      <td>1.200000</td>\n",
       "    </tr>\n",
       "    <tr>\n",
       "      <td>828361771580813312</td>\n",
       "      <td>195</td>\n",
       "      <td>2408</td>\n",
       "      <td>1.200000</td>\n",
       "    </tr>\n",
       "    <tr>\n",
       "      <td>826598799820865537</td>\n",
       "      <td>292</td>\n",
       "      <td>5637</td>\n",
       "      <td>0.700000</td>\n",
       "    </tr>\n",
       "    <tr>\n",
       "      <td>823333489516937216</td>\n",
       "      <td>31</td>\n",
       "      <td>777</td>\n",
       "      <td>1.300000</td>\n",
       "    </tr>\n",
       "    <tr>\n",
       "      <td>821153421864615936</td>\n",
       "      <td>10</td>\n",
       "      <td>280</td>\n",
       "      <td>1.300000</td>\n",
       "    </tr>\n",
       "    <tr>\n",
       "      <td>813130366689148928</td>\n",
       "      <td>513</td>\n",
       "      <td>4968</td>\n",
       "      <td>1.200000</td>\n",
       "    </tr>\n",
       "    <tr>\n",
       "      <td>811647686436880384</td>\n",
       "      <td>872</td>\n",
       "      <td>6215</td>\n",
       "      <td>1.100000</td>\n",
       "    </tr>\n",
       "    <tr>\n",
       "      <td>801854953262350336</td>\n",
       "      <td>275</td>\n",
       "      <td>1958</td>\n",
       "      <td>1.100000</td>\n",
       "    </tr>\n",
       "    <tr>\n",
       "      <td>800859414831898624</td>\n",
       "      <td>113</td>\n",
       "      <td>778</td>\n",
       "      <td>1.100000</td>\n",
       "    </tr>\n",
       "    <tr>\n",
       "      <td>797165961484890113</td>\n",
       "      <td>32</td>\n",
       "      <td>256</td>\n",
       "      <td>1.100000</td>\n",
       "    </tr>\n",
       "    <tr>\n",
       "      <td>786051337297522688</td>\n",
       "      <td>179</td>\n",
       "      <td>1614</td>\n",
       "      <td>1.300000</td>\n",
       "    </tr>\n",
       "    <tr>\n",
       "      <td>785515384317313025</td>\n",
       "      <td>1477</td>\n",
       "      <td>6800</td>\n",
       "      <td>1.000000</td>\n",
       "    </tr>\n",
       "    <tr>\n",
       "      <td>766714921925144576</td>\n",
       "      <td>438</td>\n",
       "      <td>2872</td>\n",
       "      <td>1.300000</td>\n",
       "    </tr>\n",
       "    <tr>\n",
       "      <td>763956972077010945</td>\n",
       "      <td>61</td>\n",
       "      <td>812</td>\n",
       "      <td>1.200000</td>\n",
       "    </tr>\n",
       "    <tr>\n",
       "      <td>750381685133418496</td>\n",
       "      <td>39</td>\n",
       "      <td>758</td>\n",
       "      <td>1.300000</td>\n",
       "    </tr>\n",
       "    <tr>\n",
       "      <td>747651430853525504</td>\n",
       "      <td>179</td>\n",
       "      <td>1520</td>\n",
       "      <td>1.200000</td>\n",
       "    </tr>\n",
       "    <tr>\n",
       "      <td>738891149612572673</td>\n",
       "      <td>6</td>\n",
       "      <td>115</td>\n",
       "      <td>1.300000</td>\n",
       "    </tr>\n",
       "    <tr>\n",
       "      <td>707983188426153984</td>\n",
       "      <td>2</td>\n",
       "      <td>52</td>\n",
       "      <td>1.200000</td>\n",
       "    </tr>\n",
       "    <tr>\n",
       "      <td>704491224099647488</td>\n",
       "      <td>97</td>\n",
       "      <td>840</td>\n",
       "      <td>1.300000</td>\n",
       "    </tr>\n",
       "    <tr>\n",
       "      <td>696518437233913856</td>\n",
       "      <td>1887</td>\n",
       "      <td>4274</td>\n",
       "      <td>1.000000</td>\n",
       "    </tr>\n",
       "    <tr>\n",
       "      <td>696490539101908992</td>\n",
       "      <td>170</td>\n",
       "      <td>1339</td>\n",
       "      <td>0.100000</td>\n",
       "    </tr>\n",
       "    <tr>\n",
       "      <td>693644216740769793</td>\n",
       "      <td>150</td>\n",
       "      <td>1473</td>\n",
       "      <td>1.000000</td>\n",
       "    </tr>\n",
       "    <tr>\n",
       "      <td>693582294167244802</td>\n",
       "      <td>292</td>\n",
       "      <td>1802</td>\n",
       "      <td>1.100000</td>\n",
       "    </tr>\n",
       "    <tr>\n",
       "      <td>692423280028966913</td>\n",
       "      <td>265</td>\n",
       "      <td>1618</td>\n",
       "      <td>0.900000</td>\n",
       "    </tr>\n",
       "    <tr>\n",
       "      <td>690607260360429569</td>\n",
       "      <td>19</td>\n",
       "      <td>313</td>\n",
       "      <td>1.200000</td>\n",
       "    </tr>\n",
       "    <tr>\n",
       "      <td>686035780142297088</td>\n",
       "      <td>138</td>\n",
       "      <td>1274</td>\n",
       "      <td>0.200000</td>\n",
       "    </tr>\n",
       "    <tr>\n",
       "      <td>685681090388975616</td>\n",
       "      <td>140</td>\n",
       "      <td>2069</td>\n",
       "      <td>1.400000</td>\n",
       "    </tr>\n",
       "    <tr>\n",
       "      <td>684969860808454144</td>\n",
       "      <td>421</td>\n",
       "      <td>2374</td>\n",
       "      <td>0.500000</td>\n",
       "    </tr>\n",
       "    <tr>\n",
       "      <td>682808988178739200</td>\n",
       "      <td>210</td>\n",
       "      <td>1953</td>\n",
       "      <td>1.250000</td>\n",
       "    </tr>\n",
       "    <tr>\n",
       "      <td>681340665377193984</td>\n",
       "      <td>313</td>\n",
       "      <td>1803</td>\n",
       "      <td>0.500000</td>\n",
       "    </tr>\n",
       "    <tr>\n",
       "      <td>678023323247357953</td>\n",
       "      <td>439</td>\n",
       "      <td>2095</td>\n",
       "      <td>1.300000</td>\n",
       "    </tr>\n",
       "    <tr>\n",
       "      <td>676590572941893632</td>\n",
       "      <td>142</td>\n",
       "      <td>1001</td>\n",
       "      <td>0.700000</td>\n",
       "    </tr>\n",
       "    <tr>\n",
       "      <td>675849018447167488</td>\n",
       "      <td>172</td>\n",
       "      <td>1027</td>\n",
       "      <td>0.900000</td>\n",
       "    </tr>\n",
       "    <tr>\n",
       "      <td>674742531037511680</td>\n",
       "      <td>55</td>\n",
       "      <td>527</td>\n",
       "      <td>1.100000</td>\n",
       "    </tr>\n",
       "    <tr>\n",
       "      <td>674606911342424069</td>\n",
       "      <td>115</td>\n",
       "      <td>1013</td>\n",
       "      <td>1.300000</td>\n",
       "    </tr>\n",
       "    <tr>\n",
       "      <td>674330906434379776</td>\n",
       "      <td>83</td>\n",
       "      <td>602</td>\n",
       "      <td>1.300000</td>\n",
       "    </tr>\n",
       "    <tr>\n",
       "      <td>673716320723169284</td>\n",
       "      <td>843</td>\n",
       "      <td>3289</td>\n",
       "      <td>0.100000</td>\n",
       "    </tr>\n",
       "    <tr>\n",
       "      <td>671550332464455680</td>\n",
       "      <td>229</td>\n",
       "      <td>967</td>\n",
       "      <td>0.100000</td>\n",
       "    </tr>\n",
       "    <tr>\n",
       "      <td>669684865554620416</td>\n",
       "      <td>99</td>\n",
       "      <td>551</td>\n",
       "      <td>1.100000</td>\n",
       "    </tr>\n",
       "    <tr>\n",
       "      <td>668967877119254528</td>\n",
       "      <td>25</td>\n",
       "      <td>161</td>\n",
       "      <td>1.200000</td>\n",
       "    </tr>\n",
       "    <tr>\n",
       "      <td>667070482143944705</td>\n",
       "      <td>14</td>\n",
       "      <td>88</td>\n",
       "      <td>1.000000</td>\n",
       "    </tr>\n",
       "  </tbody>\n",
       "</table>\n",
       "</div>"
      ],
      "text/plain": [
       "                    retweet_count  favorite_count     rating\n",
       "tweet_id                                                    \n",
       "886267009285017600              4             117   1.200000\n",
       "881633300179243008              7             129   1.700000\n",
       "879674319642796034             10             315   1.400000\n",
       "870726314365509632              3             121   1.000000\n",
       "863427515083354112            105            2363   1.200000\n",
       "857214891891077121             20             242   1.200000\n",
       "856288084350160898             17             545   1.400000\n",
       "855862651834028034             27             320  42.000000\n",
       "855860136149123072           1058            4407  66.600000\n",
       "850333567704068097            367            3647   1.300000\n",
       "848213670039564288            832            8834   1.100000\n",
       "847617282490613760            468            7558   1.300000\n",
       "840698636975636481              3             197   1.000000\n",
       "838150277551247360            370            1824  18.200000\n",
       "838085839343206401              0             150   1.500000\n",
       "835246439529840640             83            2259        inf\n",
       "832088576586297345              3              72   0.733333\n",
       "831926988323639298             39             369   1.200000\n",
       "828361771580813312            195            2408   1.200000\n",
       "826598799820865537            292            5637   0.700000\n",
       "823333489516937216             31             777   1.300000\n",
       "821153421864615936             10             280   1.300000\n",
       "813130366689148928            513            4968   1.200000\n",
       "811647686436880384            872            6215   1.100000\n",
       "801854953262350336            275            1958   1.100000\n",
       "800859414831898624            113             778   1.100000\n",
       "797165961484890113             32             256   1.100000\n",
       "786051337297522688            179            1614   1.300000\n",
       "785515384317313025           1477            6800   1.000000\n",
       "766714921925144576            438            2872   1.300000\n",
       "763956972077010945             61             812   1.200000\n",
       "750381685133418496             39             758   1.300000\n",
       "747651430853525504            179            1520   1.200000\n",
       "738891149612572673              6             115   1.300000\n",
       "707983188426153984              2              52   1.200000\n",
       "704491224099647488             97             840   1.300000\n",
       "696518437233913856           1887            4274   1.000000\n",
       "696490539101908992            170            1339   0.100000\n",
       "693644216740769793            150            1473   1.000000\n",
       "693582294167244802            292            1802   1.100000\n",
       "692423280028966913            265            1618   0.900000\n",
       "690607260360429569             19             313   1.200000\n",
       "686035780142297088            138            1274   0.200000\n",
       "685681090388975616            140            2069   1.400000\n",
       "684969860808454144            421            2374   0.500000\n",
       "682808988178739200            210            1953   1.250000\n",
       "681340665377193984            313            1803   0.500000\n",
       "678023323247357953            439            2095   1.300000\n",
       "676590572941893632            142            1001   0.700000\n",
       "675849018447167488            172            1027   0.900000\n",
       "674742531037511680             55             527   1.100000\n",
       "674606911342424069            115            1013   1.300000\n",
       "674330906434379776             83             602   1.300000\n",
       "673716320723169284            843            3289   0.100000\n",
       "671550332464455680            229             967   0.100000\n",
       "669684865554620416             99             551   1.100000\n",
       "668967877119254528             25             161   1.200000\n",
       "667070482143944705             14              88   1.000000"
      ]
     },
     "execution_count": 54,
     "metadata": {},
     "output_type": "execute_result"
    }
   ],
   "source": [
    "archive_df_clean.loc[missing_urls_index, ['retweet_count', 'favorite_count', 'rating']]"
   ]
  },
  {
   "cell_type": "markdown",
   "metadata": {},
   "source": [
    "##### Define\n",
    "\n",
    "- Tweet 835246439529840640 contains an invalid rate because of its zero denominator. That´s also mentioned in the tweet text itself: _\"@jonnysun @Lin_Manuel ok jomny I know you're excited but 960/00 isn't a valid rating, 13/10 is tho\"_. Remove this tweet from dataframe\n"
   ]
  },
  {
   "cell_type": "markdown",
   "metadata": {},
   "source": [
    "##### Code"
   ]
  },
  {
   "cell_type": "code",
   "execution_count": 55,
   "metadata": {},
   "outputs": [
    {
     "data": {
      "text/plain": [
       "(2175, 27)"
      ]
     },
     "execution_count": 55,
     "metadata": {},
     "output_type": "execute_result"
    }
   ],
   "source": [
    "archive_df_clean.shape"
   ]
  },
  {
   "cell_type": "code",
   "execution_count": 56,
   "metadata": {},
   "outputs": [],
   "source": [
    "# Let's try to drop that tweet\n",
    "try:\n",
    "    archive_df_clean.drop(index=['835246439529840640'], inplace=True)\n",
    "except KeyError:\n",
    "    print('tweet 835246439529840640 already dropped')"
   ]
  },
  {
   "cell_type": "markdown",
   "metadata": {},
   "source": [
    "##### Test"
   ]
  },
  {
   "cell_type": "code",
   "execution_count": 57,
   "metadata": {},
   "outputs": [
    {
     "name": "stdout",
     "output_type": "stream",
     "text": [
      "tweet not found\n"
     ]
    }
   ],
   "source": [
    "try:\n",
    "    archive_df_clean.loc['835246439529840640']\n",
    "    assert False\n",
    "except KeyError:\n",
    "    print(\"tweet not found\")\n",
    "    assert True"
   ]
  },
  {
   "cell_type": "markdown",
   "metadata": {},
   "source": [
    "##### Define\n",
    "\n",
    "- Using regular expression \\d+.\\d*\\/\\d+, Capture all tweets that contain ratings in the form of e.g. 4/10, 12/10 or 13.5/10 and extract this rating. Then use str.split('/') to get numerators and denominators. Finally set those pairs of extracted numbers to numerator and denominator for data frame"
   ]
  },
  {
   "cell_type": "markdown",
   "metadata": {},
   "source": [
    "##### Code"
   ]
  },
  {
   "cell_type": "code",
   "execution_count": 58,
   "metadata": {},
   "outputs": [
    {
     "name": "stderr",
     "output_type": "stream",
     "text": [
      "/Users/iramos@tiempodevelopment.com/opt/anaconda3/lib/python3.7/site-packages/pandas/core/strings.py:1843: UserWarning: This pattern has match groups. To actually get the groups, use str.extract.\n",
      "  return func(self, *args, **kwargs)\n"
     ]
    }
   ],
   "source": [
    "tweets_with_rank = archive_df_clean[archive_df_clean.text.str.contains(r\"(\\d+.\\d*\\/\\d+)\")][['text', 'rating_numerator']]"
   ]
  },
  {
   "cell_type": "code",
   "execution_count": 59,
   "metadata": {},
   "outputs": [],
   "source": [
    "# Extract correct rating\n",
    "ranks = tweets_with_rank.text.str.extract(r'(\\d+\\.?\\d+\\/\\d+)', expand=False)"
   ]
  },
  {
   "cell_type": "code",
   "execution_count": 60,
   "metadata": {},
   "outputs": [],
   "source": [
    "# then split numerator and denominator\n",
    "ranks = ranks.str.split('/', expand=True)"
   ]
  },
  {
   "cell_type": "code",
   "execution_count": 61,
   "metadata": {},
   "outputs": [],
   "source": [
    "# Assign correct numerators and denominators to tweets\n",
    "for row in ranks.itertuples():\n",
    "    archive_df_clean.loc[row[0], 'rating_numerator'] = row[1]\n",
    "    archive_df_clean.loc[row[0], 'rating_denominator'] = row[2]"
   ]
  },
  {
   "cell_type": "code",
   "execution_count": 62,
   "metadata": {},
   "outputs": [],
   "source": [
    "archive_df_clean.rating_numerator = archive_df_clean.rating_numerator.astype(np.float)\n",
    "archive_df_clean.rating_denominator = archive_df_clean.rating_denominator.astype(np.float)\n",
    "archive_df_clean['rating'] = archive_df_clean.rating_numerator / archive_df_clean.rating_denominator"
   ]
  },
  {
   "cell_type": "markdown",
   "metadata": {},
   "source": [
    "##### Test"
   ]
  },
  {
   "cell_type": "code",
   "execution_count": 63,
   "metadata": {},
   "outputs": [],
   "source": [
    "assert archive_df_clean.loc['883482846933004288', 'rating_numerator'] == 13.5\n",
    "assert archive_df_clean.loc['883482846933004288', 'rating'] == 1.35"
   ]
  },
  {
   "cell_type": "code",
   "execution_count": 64,
   "metadata": {},
   "outputs": [
    {
     "data": {
      "text/plain": [
       "1.200000      504\n",
       "1.000000      446\n",
       "1.100000      432\n",
       "1.300000      309\n",
       "0.900000      156\n",
       "0.800000       97\n",
       "0.700000       53\n",
       "1.400000       44\n",
       "0.500000       33\n",
       "0.600000       32\n",
       "0.300000       19\n",
       "0.400000       14\n",
       "0.200000       10\n",
       "0.100000        7\n",
       "0.000000        2\n",
       "42.000000       2\n",
       "1.126000        1\n",
       "1.127000        1\n",
       "0.733333        1\n",
       "18.200000       1\n",
       "1.350000        1\n",
       "0.975000        1\n",
       "66.600000       1\n",
       "1.700000        1\n",
       "0.950000        1\n",
       "1.250000        1\n",
       "3.428571        1\n",
       "1.500000        1\n",
       "177.600000      1\n",
       "Name: rating, dtype: int64"
      ]
     },
     "execution_count": 64,
     "metadata": {},
     "output_type": "execute_result"
    }
   ],
   "source": [
    "archive_df_clean.rating.value_counts()"
   ]
  },
  {
   "cell_type": "markdown",
   "metadata": {},
   "source": [
    "##### Define\n",
    "\n",
    "- Invaild rate for tweet 666287406224695296, it should be 9/10. _\"This is an Albanian 3 1/2 legged  Episcopalian. Loves well-polished hardwood flooring. Penis on the collar. 9/10 https://t.co/d9NcXFKwLv\"_"
   ]
  },
  {
   "cell_type": "markdown",
   "metadata": {},
   "source": [
    "##### Code"
   ]
  },
  {
   "cell_type": "code",
   "execution_count": 65,
   "metadata": {},
   "outputs": [],
   "source": [
    "archive_df_clean.loc['666287406224695296', 'rating_numerator'] = 9\n",
    "archive_df_clean.loc['666287406224695296', 'rating_denominator'] = 10\n",
    "archive_df_clean.loc['666287406224695296', 'rating'] = 9/10"
   ]
  },
  {
   "cell_type": "markdown",
   "metadata": {},
   "source": [
    "##### Test"
   ]
  },
  {
   "cell_type": "code",
   "execution_count": 66,
   "metadata": {},
   "outputs": [],
   "source": [
    "assert archive_df_clean.loc['666287406224695296', 'rating_numerator'] == 9\n",
    "assert archive_df_clean.loc['666287406224695296', 'rating_denominator'] == 10\n",
    "assert archive_df_clean.loc['666287406224695296', 'rating'] == 0.9"
   ]
  },
  {
   "cell_type": "markdown",
   "metadata": {},
   "source": [
    "##### Define\n",
    "\n",
    "- Change `timestamp` data type in archive data frame from string to datetime. This will help to do further analysis operations over dates"
   ]
  },
  {
   "cell_type": "markdown",
   "metadata": {},
   "source": [
    "##### Code"
   ]
  },
  {
   "cell_type": "code",
   "execution_count": 67,
   "metadata": {},
   "outputs": [],
   "source": [
    "archive_df_clean.timestamp = archive_df_clean.timestamp.astype(np.dtype('<M8[ns]'))"
   ]
  },
  {
   "cell_type": "markdown",
   "metadata": {},
   "source": [
    "##### Test"
   ]
  },
  {
   "cell_type": "code",
   "execution_count": 68,
   "metadata": {},
   "outputs": [],
   "source": [
    "assert archive_df_clean.timestamp.dtype == np.dtype('<M8[ns]')"
   ]
  },
  {
   "cell_type": "markdown",
   "metadata": {},
   "source": [
    "##### Define\n",
    "\n",
    "- A bunch of Dog names are improperly parsed (such as \"a\", \"an\", \"by\" etc ...)\n",
    "    1. Assign NaN to \"None\" names\n",
    "    2. Assign NaN to non-capitalized names"
   ]
  },
  {
   "cell_type": "markdown",
   "metadata": {},
   "source": [
    "##### Code"
   ]
  },
  {
   "cell_type": "code",
   "execution_count": 69,
   "metadata": {},
   "outputs": [],
   "source": [
    "archive_df_clean.loc[archive_df_clean.name.str.islower(), 'name'] = np.nan"
   ]
  },
  {
   "cell_type": "markdown",
   "metadata": {},
   "source": [
    "##### Test"
   ]
  },
  {
   "cell_type": "code",
   "execution_count": 70,
   "metadata": {},
   "outputs": [],
   "source": [
    "assert archive_df_clean.name.str.islower().sum() == 0"
   ]
  },
  {
   "cell_type": "markdown",
   "metadata": {},
   "source": [
    "##### Define\n",
    "\n",
    "- Standarize \"None\" values for missing dog names as NaN "
   ]
  },
  {
   "cell_type": "markdown",
   "metadata": {},
   "source": [
    "##### Code"
   ]
  },
  {
   "cell_type": "code",
   "execution_count": 71,
   "metadata": {},
   "outputs": [],
   "source": [
    "none_names_index = archive_df_clean[archive_df_clean.name == 'None'].index\n",
    "archive_df_clean.loc[none_names_index, 'name'] = np.nan"
   ]
  },
  {
   "cell_type": "markdown",
   "metadata": {},
   "source": [
    "##### Test"
   ]
  },
  {
   "cell_type": "code",
   "execution_count": 72,
   "metadata": {},
   "outputs": [],
   "source": [
    "assert archive_df_clean[archive_df_clean.name == \"None\"].shape[0] == 0"
   ]
  },
  {
   "cell_type": "markdown",
   "metadata": {},
   "source": [
    "##### Define\n",
    "\n",
    "\n",
    "- Consistency issue: For predictions columns, standarize tag values by lowercasing all of them."
   ]
  },
  {
   "cell_type": "markdown",
   "metadata": {},
   "source": [
    "##### Code"
   ]
  },
  {
   "cell_type": "code",
   "execution_count": 73,
   "metadata": {},
   "outputs": [],
   "source": [
    "archive_df_clean['tag1'] = archive_df_clean.tag1.str.lower()\n",
    "archive_df_clean['tag2'] = archive_df_clean.tag2.str.lower()\n",
    "archive_df_clean['tag3'] = archive_df_clean.tag3.str.lower()"
   ]
  },
  {
   "cell_type": "markdown",
   "metadata": {},
   "source": [
    "##### Test"
   ]
  },
  {
   "cell_type": "code",
   "execution_count": 74,
   "metadata": {},
   "outputs": [],
   "source": [
    "assert all(archive_df_clean.tag1.str.islower())\n",
    "assert all(archive_df_clean.tag2.str.islower())\n",
    "assert all(archive_df_clean.tag3.str.islower())"
   ]
  },
  {
   "cell_type": "code",
   "execution_count": 75,
   "metadata": {},
   "outputs": [
    {
     "data": {
      "text/html": [
       "<div>\n",
       "<style scoped>\n",
       "    .dataframe tbody tr th:only-of-type {\n",
       "        vertical-align: middle;\n",
       "    }\n",
       "\n",
       "    .dataframe tbody tr th {\n",
       "        vertical-align: top;\n",
       "    }\n",
       "\n",
       "    .dataframe thead th {\n",
       "        text-align: right;\n",
       "    }\n",
       "</style>\n",
       "<table border=\"1\" class=\"dataframe\">\n",
       "  <thead>\n",
       "    <tr style=\"text-align: right;\">\n",
       "      <th></th>\n",
       "      <th>tag1</th>\n",
       "      <th>tag2</th>\n",
       "      <th>tag3</th>\n",
       "    </tr>\n",
       "    <tr>\n",
       "      <th>tweet_id</th>\n",
       "      <th></th>\n",
       "      <th></th>\n",
       "      <th></th>\n",
       "    </tr>\n",
       "  </thead>\n",
       "  <tbody>\n",
       "    <tr>\n",
       "      <td>672997845381865473</td>\n",
       "      <td>chow</td>\n",
       "      <td>pomeranian</td>\n",
       "      <td>koala</td>\n",
       "    </tr>\n",
       "    <tr>\n",
       "      <td>883482846933004288</td>\n",
       "      <td>golden_retriever</td>\n",
       "      <td>labrador_retriever</td>\n",
       "      <td>kuvasz</td>\n",
       "    </tr>\n",
       "    <tr>\n",
       "      <td>832682457690300417</td>\n",
       "      <td>NaN</td>\n",
       "      <td>NaN</td>\n",
       "      <td>NaN</td>\n",
       "    </tr>\n",
       "  </tbody>\n",
       "</table>\n",
       "</div>"
      ],
      "text/plain": [
       "                                tag1                tag2    tag3\n",
       "tweet_id                                                        \n",
       "672997845381865473              chow          pomeranian   koala\n",
       "883482846933004288  golden_retriever  labrador_retriever  kuvasz\n",
       "832682457690300417               NaN                 NaN     NaN"
      ]
     },
     "execution_count": 75,
     "metadata": {},
     "output_type": "execute_result"
    }
   ],
   "source": [
    "archive_df_clean.sample(3)[['tag1', 'tag2', 'tag3']]"
   ]
  },
  {
   "cell_type": "markdown",
   "metadata": {},
   "source": [
    "<a id=\"export_section\"></a>\n",
    "\n",
    "## Export data"
   ]
  },
  {
   "cell_type": "markdown",
   "metadata": {},
   "source": [
    "After our data wrangling process, our final step is to export our tiddy clean data into csv files as well as SQL db file in case other researches want to work with persisted data."
   ]
  },
  {
   "cell_type": "code",
   "execution_count": 76,
   "metadata": {},
   "outputs": [],
   "source": [
    "#We also want indexes to be saved, as those represent tweet id´s\n",
    "archive_df_clean.to_csv('twitter_archive_master.csv', index=True)\n",
    "# In this case, we have a generic consecutive index for assets, so we don´t want that info.\n",
    "media_assets_df.to_csv('media_assets_master.csv', index=False)"
   ]
  },
  {
   "cell_type": "code",
   "execution_count": 77,
   "metadata": {},
   "outputs": [],
   "source": [
    "from sqlalchemy import create_engine"
   ]
  },
  {
   "cell_type": "code",
   "execution_count": 78,
   "metadata": {},
   "outputs": [],
   "source": [
    "engine = create_engine('sqlite:///weratedogs.db')"
   ]
  },
  {
   "cell_type": "code",
   "execution_count": 79,
   "metadata": {},
   "outputs": [],
   "source": [
    "archive_df_clean.to_sql('tweet_archive', engine, index=True)\n",
    "media_assets_df.to_sql('tweet_media', engine, index=False)"
   ]
  },
  {
   "cell_type": "markdown",
   "metadata": {},
   "source": [
    "<a id=\"analysis_section\"></a>\n",
    "\n",
    "## Analyze and Visualize"
   ]
  },
  {
   "cell_type": "code",
   "execution_count": 80,
   "metadata": {},
   "outputs": [],
   "source": [
    "tweets = pd.read_csv('twitter_archive_master.csv')\n",
    "media = pd.read_csv('media_assets_master.csv')"
   ]
  },
  {
   "cell_type": "markdown",
   "metadata": {},
   "source": [
    "Now, let´s explore our cleaned data to discover common patterns and see data shape"
   ]
  },
  {
   "cell_type": "code",
   "execution_count": 81,
   "metadata": {},
   "outputs": [],
   "source": [
    "import matplotlib.pyplot as plt\n",
    "import math\n",
    "\n",
    "%matplotlib inline"
   ]
  },
  {
   "cell_type": "markdown",
   "metadata": {},
   "source": [
    "<a id=\"ratings\"></a>\n",
    "\n",
    "**Q1:  WeRateDogs have a non-common way to rank dog pictures. How are those ratings distributed along the tweet history?**\n"
   ]
  },
  {
   "cell_type": "code",
   "execution_count": 82,
   "metadata": {},
   "outputs": [
    {
     "data": {
      "text/plain": [
       "1.200000      504\n",
       "1.000000      446\n",
       "1.100000      432\n",
       "1.300000      309\n",
       "0.900000      157\n",
       "0.800000       97\n",
       "0.700000       53\n",
       "1.400000       44\n",
       "0.500000       33\n",
       "0.600000       32\n",
       "0.300000       19\n",
       "0.400000       14\n",
       "0.200000       10\n",
       "0.100000        7\n",
       "0.000000        2\n",
       "42.000000       2\n",
       "1.126000        1\n",
       "1.127000        1\n",
       "0.733333        1\n",
       "18.200000       1\n",
       "1.350000        1\n",
       "0.975000        1\n",
       "66.600000       1\n",
       "1.700000        1\n",
       "0.950000        1\n",
       "1.250000        1\n",
       "3.428571        1\n",
       "1.500000        1\n",
       "177.600000      1\n",
       "Name: rating, dtype: int64"
      ]
     },
     "execution_count": 82,
     "metadata": {},
     "output_type": "execute_result"
    }
   ],
   "source": [
    "rating_counts = tweets.rating.value_counts()\n",
    "rating_counts"
   ]
  },
  {
   "cell_type": "code",
   "execution_count": 83,
   "metadata": {},
   "outputs": [
    {
     "data": {
      "image/png": "[encoded data removed]",
      "text/plain": [
       "<Figure size 432x288 with 1 Axes>"
      ]
     },
     "metadata": {
      "needs_background": "light"
     },
     "output_type": "display_data"
    }
   ],
   "source": [
    "# Vast majority of ratings concentrate between 0 - 1.4, so let´s set bins as 0, 0.1 , 0.2 ... 1.4\n",
    "rating_bins = [x / 10 for x in range(0, 20)]\n",
    "#rating_counts.plot.hist('rating', bins=rating_bins)\n",
    "data = tweets.rating\n",
    "plt.hist(data, bins=rating_bins);\n",
    "plt.xlabel(\"Rating (e.g. 12/10 = 1.2)\");\n",
    "plt.ylabel(\"Tweets\");\n",
    "plt.title(\"Rating tendencies in Tweets\");"
   ]
  },
  {
   "cell_type": "markdown",
   "metadata": {},
   "source": [
    "<a id=\"media\"></a>\n",
    "\n",
    "**Q2: How people tend to share media in their tweets?**"
   ]
  },
  {
   "cell_type": "code",
   "execution_count": 84,
   "metadata": {},
   "outputs": [],
   "source": [
    "media_totals = media.groupby('type').count()\n",
    "# We can appreciate that vast majority tend to use pictures, a little videos and very few gifs"
   ]
  },
  {
   "cell_type": "code",
   "execution_count": 85,
   "metadata": {
    "scrolled": true
   },
   "outputs": [
    {
     "data": {
      "image/png": "[encoded data removed]",
      "text/plain": [
       "<Figure size 360x360 with 1 Axes>"
      ]
     },
     "metadata": {},
     "output_type": "display_data"
    }
   ],
   "source": [
    "media_totals.plot.pie(y='tweet_id', figsize=(5,5));\n",
    "plt.title(\"Most common media types present in a tweet\");\n",
    "plt.ylabel(\"\");"
   ]
  },
  {
   "cell_type": "markdown",
   "metadata": {},
   "source": [
    "<a id=\"correlations\"></a>\n",
    "\n",
    "**Q3: Can we see a pattern of correlation between favorite count and the fact is retweeted? How about between favorite count and given rating?**"
   ]
  },
  {
   "cell_type": "code",
   "execution_count": 86,
   "metadata": {},
   "outputs": [
    {
     "data": {
      "image/png": "[encoded data removed]",
      "text/plain": [
       "<Figure size 432x288 with 1 Axes>"
      ]
     },
     "metadata": {
      "needs_background": "light"
     },
     "output_type": "display_data"
    }
   ],
   "source": [
    "tweets.plot.scatter('favorite_count', 'retweet_count');\n",
    "plt.title(\"Relation betweent likes and retweets a tweet receive\");\n",
    "plt.ylabel(\"Retweets\");\n",
    "plt.xlabel(\"Favorites\");"
   ]
  },
  {
   "cell_type": "markdown",
   "metadata": {},
   "source": [
    "Apparently, there is a tendency of retweet a favorited tweet."
   ]
  },
  {
   "cell_type": "code",
   "execution_count": 87,
   "metadata": {},
   "outputs": [
    {
     "data": {
      "text/plain": [
       "count    2174.000000\n",
       "mean        1.221499\n",
       "std         4.245155\n",
       "min         0.000000\n",
       "25%         1.000000\n",
       "50%         1.100000\n",
       "75%         1.200000\n",
       "max       177.600000\n",
       "Name: rating, dtype: float64"
      ]
     },
     "execution_count": 87,
     "metadata": {},
     "output_type": "execute_result"
    }
   ],
   "source": [
    "tweets.rating.describe()"
   ]
  },
  {
   "cell_type": "markdown",
   "metadata": {},
   "source": [
    "From above description we can see there are clearly some outliers in our ratings as 75% of population is between 0 and 1.2, then suddently goes to a max value of 177.6\n",
    "Let's limit ratings to take the ones betweet 0 - 2."
   ]
  },
  {
   "cell_type": "code",
   "execution_count": 88,
   "metadata": {},
   "outputs": [],
   "source": [
    "no_outlier_ratings = tweets[tweets.rating <= 2]"
   ]
  },
  {
   "cell_type": "code",
   "execution_count": 89,
   "metadata": {
    "scrolled": true
   },
   "outputs": [
    {
     "data": {
      "image/png": "[encoded data removed]",
      "text/plain": [
       "<Figure size 432x288 with 1 Axes>"
      ]
     },
     "metadata": {
      "needs_background": "light"
     },
     "output_type": "display_data"
    }
   ],
   "source": [
    "ax = no_outlier_ratings.plot.scatter('rating', 'favorite_count');\n",
    "plt.axvline(x=1.0, c='r', label=\"10/10 rating\");\n",
    "plt.axvline(x=1.5, c='g', label=\"15/10 rating\");\n",
    "plt.title(\"Comparison of given rating and likes received in a tweet\")\n",
    "plt.xlabel('Rating (e.g. 13/10 = 1.3)');\n",
    "plt.ylabel('Total Favorites');\n",
    "ax.set_xticks([(x / 10) * 2 for x in range(0, 11)], minor=False)\n",
    "plt.legend();"
   ]
  },
  {
   "cell_type": "markdown",
   "metadata": {},
   "source": [
    "From above graphic, looks like more famous tweets are associated with a rating betweet 10/10 and 15/10. For those outliers with not so common rating above 15/10, looks like are not impacted by a high favorite count"
   ]
  },
  {
   "cell_type": "markdown",
   "metadata": {},
   "source": [
    "<a id=\"dog_breeds\"></a>\n",
    "\n",
    "**Q4: What are the top 20 dog breeds appearing in WeRateDogs?**"
   ]
  },
  {
   "cell_type": "code",
   "execution_count": 90,
   "metadata": {},
   "outputs": [],
   "source": [
    "# Lets consider only first tag as it is the one with highest probability and filter by dog\n",
    "predictions = tweets[tweets.tag1_is_dog == True]\n",
    "# then the top 20 breeds\n",
    "top_breeds = predictions.tag1.value_counts()[:20]\n",
    "top_breeds = top_breeds.sort_values()"
   ]
  },
  {
   "cell_type": "code",
   "execution_count": 91,
   "metadata": {},
   "outputs": [
    {
     "data": {
      "image/png": "[encoded data removed]",
      "text/plain": [
       "<Figure size 432x288 with 1 Axes>"
      ]
     },
     "metadata": {
      "needs_background": "light"
     },
     "output_type": "display_data"
    }
   ],
   "source": [
    "plt.barh(top_breeds.index, top_breeds.values, height=0.6, align='center');\n",
    "plt.xlabel(\"Tweets\");\n",
    "plt.title(\"Top 20 breeds showing up in tweets\");"
   ]
  },
  {
   "cell_type": "markdown",
   "metadata": {},
   "source": [
    "<a id=\"dog_tags\"></a>\n",
    "\n",
    "**Q5: What are the most common tags for pets?**"
   ]
  },
  {
   "cell_type": "code",
   "execution_count": 92,
   "metadata": {},
   "outputs": [],
   "source": [
    "dog_tags = tweets[tweets.dog_stage.notna()]"
   ]
  },
  {
   "cell_type": "code",
   "execution_count": 93,
   "metadata": {},
   "outputs": [
    {
     "data": {
      "text/plain": [
       "pupper            224\n",
       "doggo              75\n",
       "puppo              24\n",
       "doggo, pupper      10\n",
       "floofer             9\n",
       "doggo, floofer      1\n",
       "doggo, puppo        1\n",
       "Name: dog_stage, dtype: int64"
      ]
     },
     "execution_count": 93,
     "metadata": {},
     "output_type": "execute_result"
    }
   ],
   "source": [
    "tag_count = dog_tags.dog_stage.value_counts()\n",
    "tag_count"
   ]
  },
  {
   "cell_type": "code",
   "execution_count": 94,
   "metadata": {},
   "outputs": [
    {
     "data": {
      "image/png": "[encoded data removed]",
      "text/plain": [
       "<Figure size 432x216 with 1 Axes>"
      ]
     },
     "metadata": {},
     "output_type": "display_data"
    }
   ],
   "source": [
    "import numpy as np\n",
    "import matplotlib.pyplot as plt\n",
    "\n",
    "fig, ax = plt.subplots(figsize=(6, 3), subplot_kw=dict(aspect=\"equal\"))\n",
    "\n",
    "data = tag_count.values\n",
    "stages = tag_count.index.to_list()\n",
    "\n",
    "\n",
    "wedges, autotexts = ax.pie(data, textprops=dict(color=\"w\"))\n",
    "\n",
    "ax.legend(wedges, stages,\n",
    "          title=\"Dog Age\",\n",
    "          loc=\"center left\",\n",
    "          bbox_to_anchor=(1, 0, 0.5, 1))\n",
    "\n",
    "plt.setp(autotexts, size=8, weight=\"bold\")\n",
    "\n",
    "ax.set_title(\"#WeRateDogs pet ages\")\n",
    "\n",
    "plt.show()"
   ]
  }
 ],
 "metadata": {
  "kernelspec": {
   "display_name": "Python 3",
   "language": "python",
   "name": "python3"
  },
  "language_info": {
   "codemirror_mode": {
    "name": "ipython",
    "version": 3
   },
   "file_extension": ".py",
   "mimetype": "text/x-python",
   "name": "python",
   "nbconvert_exporter": "python",
   "pygments_lexer": "ipython3",
   "version": "3.7.4"
  }
 },
 "nbformat": 4,
 "nbformat_minor": 2
}
